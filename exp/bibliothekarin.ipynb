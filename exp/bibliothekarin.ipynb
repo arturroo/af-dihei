{
 "cells": [
  {
   "cell_type": "markdown",
   "id": "34adecea",
   "metadata": {
    "id": "b6e13eef3f5d",
    "papermill": {
     "duration": 0.008247,
     "end_time": "2025-04-04T21:44:08.558976",
     "exception": false,
     "start_time": "2025-04-04T21:44:08.550729",
     "status": "completed"
    },
    "tags": []
   },
   "source": [
    "### Artur Fejklowicz - Bibliothekarin\n",
    "Based on Kaggle 5 Day Intensive GenAI Course with Google - Day 3 Function Calling\n",
    "\n",
    "For my daughter Maja"
   ]
  },
  {
   "cell_type": "code",
   "execution_count": null,
   "id": "a2827200",
   "metadata": {
    "cellView": "form",
    "execution": {
     "iopub.execute_input": "2025-04-04T21:44:08.576267Z",
     "iopub.status.busy": "2025-04-04T21:44:08.575764Z",
     "iopub.status.idle": "2025-04-04T21:44:08.582631Z",
     "shell.execute_reply": "2025-04-04T21:44:08.581509Z"
    },
    "id": "d6597b11df14",
    "jupyter": {
     "source_hidden": true
    },
    "papermill": {
     "duration": 0.018478,
     "end_time": "2025-04-04T21:44:08.585187",
     "exception": false,
     "start_time": "2025-04-04T21:44:08.566709",
     "status": "completed"
    },
    "tags": []
   },
   "outputs": [],
   "source": [
    "# TODO\n",
    "# 1. add ISBN\n",
    "# 2. Get book descriptions from Gemini \"Napis prosze 10 zdaniowe streszczenie tekstow tej ksiazki dla dziewczyki\"\n",
    "# 3. index them in second Chroma DB with isbn as key"
   ]
  },
  {
   "cell_type": "markdown",
   "id": "e322050e",
   "metadata": {
    "id": "ea197d1d464f",
    "papermill": {
     "duration": 0.006949,
     "end_time": "2025-04-04T21:44:08.615570",
     "exception": false,
     "start_time": "2025-04-04T21:44:08.608621",
     "status": "completed"
    },
    "tags": []
   },
   "source": [
    "## Setup"
   ]
  },
  {
   "cell_type": "code",
   "execution_count": 36,
   "id": "a2566b78",
   "metadata": {
    "execution": {
     "iopub.execute_input": "2025-04-04T21:44:08.632230Z",
     "iopub.status.busy": "2025-04-04T21:44:08.631883Z",
     "iopub.status.idle": "2025-04-04T21:44:30.191792Z",
     "shell.execute_reply": "2025-04-04T21:44:30.189826Z"
    },
    "id": "a24f42e469df",
    "papermill": {
     "duration": 21.57138,
     "end_time": "2025-04-04T21:44:30.194755",
     "exception": false,
     "start_time": "2025-04-04T21:44:08.623375",
     "status": "completed"
    },
    "tags": []
   },
   "outputs": [],
   "source": [
    "# # Remove unused conflicting packages\n",
    "# # !pip uninstall -qqy jupyterlab\n",
    "# !pip install -U -q \"google-genai==1.7.0\""
   ]
  },
  {
   "cell_type": "code",
   "execution_count": 3,
   "id": "0b336265",
   "metadata": {
    "execution": {
     "iopub.execute_input": "2025-04-04T21:44:30.211997Z",
     "iopub.status.busy": "2025-04-04T21:44:30.211556Z",
     "iopub.status.idle": "2025-04-04T21:44:31.721211Z",
     "shell.execute_reply": "2025-04-04T21:44:31.720015Z"
    },
    "id": "02bb0f551e25",
    "papermill": {
     "duration": 1.521272,
     "end_time": "2025-04-04T21:44:31.723810",
     "exception": false,
     "start_time": "2025-04-04T21:44:30.202538",
     "status": "completed"
    },
    "tags": []
   },
   "outputs": [
    {
     "data": {
      "text/plain": [
       "'1.7.0'"
      ]
     },
     "execution_count": 3,
     "metadata": {},
     "output_type": "execute_result"
    }
   ],
   "source": [
    "from google import genai\n",
    "from google.genai import types\n",
    "\n",
    "genai.__version__"
   ]
  },
  {
   "cell_type": "markdown",
   "id": "e63fbb13",
   "metadata": {
    "id": "90e83cddff61",
    "papermill": {
     "duration": 0.007337,
     "end_time": "2025-04-04T21:44:31.739226",
     "exception": false,
     "start_time": "2025-04-04T21:44:31.731889",
     "status": "completed"
    },
    "tags": []
   },
   "source": [
    "### Set up API key"
   ]
  },
  {
   "cell_type": "code",
   "execution_count": 4,
   "id": "734eef91",
   "metadata": {
    "execution": {
     "iopub.execute_input": "2025-04-04T21:44:31.757687Z",
     "iopub.status.busy": "2025-04-04T21:44:31.757065Z",
     "iopub.status.idle": "2025-04-04T21:44:31.859670Z",
     "shell.execute_reply": "2025-04-04T21:44:31.858441Z"
    },
    "id": "5cc8325f051d",
    "papermill": {
     "duration": 0.114756,
     "end_time": "2025-04-04T21:44:31.862356",
     "exception": false,
     "start_time": "2025-04-04T21:44:31.747600",
     "status": "completed"
    },
    "tags": []
   },
   "outputs": [],
   "source": [
    "import os\n",
    "GOOGLE_API_KEY = os.getenv('GOOGLE_API_KEY')\n",
    "if not GOOGLE_API_KEY:\n",
    "    raise ValueError(\"API Key not found.\")"
   ]
  },
  {
   "cell_type": "markdown",
   "id": "60823b95",
   "metadata": {
    "papermill": {
     "duration": 0.007323,
     "end_time": "2025-04-04T21:44:31.894371",
     "exception": false,
     "start_time": "2025-04-04T21:44:31.887048",
     "status": "completed"
    },
    "tags": []
   },
   "source": [
    "### Automated retry"
   ]
  },
  {
   "cell_type": "code",
   "execution_count": 5,
   "id": "2621d9b8",
   "metadata": {
    "execution": {
     "iopub.execute_input": "2025-04-04T21:44:31.913683Z",
     "iopub.status.busy": "2025-04-04T21:44:31.913115Z",
     "iopub.status.idle": "2025-04-04T21:44:32.128491Z",
     "shell.execute_reply": "2025-04-04T21:44:32.127589Z"
    },
    "papermill": {
     "duration": 0.227833,
     "end_time": "2025-04-04T21:44:32.130933",
     "exception": false,
     "start_time": "2025-04-04T21:44:31.903100",
     "status": "completed"
    },
    "tags": []
   },
   "outputs": [],
   "source": [
    "# Define a retry policy. The model might make multiple consecutive calls automatically\n",
    "# for a complex query, this ensures the client retries if it hits quota limits.\n",
    "from google.api_core import retry\n",
    "\n",
    "is_retriable = lambda e: (isinstance(e, genai.errors.APIError) and e.code in {429, 503})\n",
    "\n",
    "if not hasattr(genai.models.Models.generate_content, '__wrapped__'):\n",
    "  genai.models.Models.generate_content = retry.Retry(\n",
    "      predicate=is_retriable)(genai.models.Models.generate_content)"
   ]
  },
  {
   "cell_type": "markdown",
   "id": "b6bc882a",
   "metadata": {
    "id": "ed8fc6062c62",
    "papermill": {
     "duration": 0.007259,
     "end_time": "2025-04-04T21:44:32.145961",
     "exception": false,
     "start_time": "2025-04-04T21:44:32.138702",
     "status": "completed"
    },
    "tags": []
   },
   "source": [
    "## Create a local database\n",
    "\n",
    "For this minimal example, you'll create a local SQLite database and add some synthetic data so you have something to query.\n",
    "\n",
    "Load the `sql` IPython extension so you can interact with the database using magic commands (the `%` instructions) to create a new, empty SQLite database."
   ]
  },
  {
   "cell_type": "code",
   "execution_count": 6,
   "id": "b6e46fbc",
   "metadata": {
    "execution": {
     "iopub.execute_input": "2025-04-04T21:44:32.163291Z",
     "iopub.status.busy": "2025-04-04T21:44:32.162741Z",
     "iopub.status.idle": "2025-04-04T21:44:34.216453Z",
     "shell.execute_reply": "2025-04-04T21:44:34.215106Z"
    },
    "id": "c98a627ef07b",
    "papermill": {
     "duration": 2.065474,
     "end_time": "2025-04-04T21:44:34.218982",
     "exception": false,
     "start_time": "2025-04-04T21:44:32.153508",
     "status": "completed"
    },
    "tags": []
   },
   "outputs": [
    {
     "name": "stdout",
     "output_type": "stream",
     "text": [
      "1.3.24\n"
     ]
    }
   ],
   "source": [
    "%reload_ext sql\n",
    "import sqlalchemy\n",
    "print(sqlalchemy.__version__)\n"
   ]
  },
  {
   "cell_type": "code",
   "execution_count": 7,
   "id": "ca325bdc",
   "metadata": {},
   "outputs": [
    {
     "data": {
      "text/plain": [
       "'Connected: @sample.db'"
      ]
     },
     "execution_count": 7,
     "metadata": {},
     "output_type": "execute_result"
    }
   ],
   "source": [
    "#%sql sqlite:///:memory:\n",
    "%sql sqlite:///sample.db\n"
   ]
  },
  {
   "cell_type": "markdown",
   "id": "4b17f2a2",
   "metadata": {
    "id": "14e7bc18b8af",
    "papermill": {
     "duration": 0.007796,
     "end_time": "2025-04-04T21:44:34.234929",
     "exception": false,
     "start_time": "2025-04-04T21:44:34.227133",
     "status": "completed"
    },
    "tags": []
   },
   "source": [
    "Create the tables and insert some synthetic data. Feel free to tweak this structure and data."
   ]
  },
  {
   "cell_type": "code",
   "execution_count": 8,
   "id": "a4a92ade",
   "metadata": {},
   "outputs": [],
   "source": [
    "%config SqlMagic.style = '_DEPRECATED_MARKDOWN'\n",
    "# %config SqlMagic.style = '_DEPRECATED_DEFAULT'\n",
    "#from prettytable import TableStyle\n",
    "#%config SqlMagic.style = TableStyle.MARKDOWN # 'MARKDOWN'\n",
    "# !pip show prettytable"
   ]
  },
  {
   "cell_type": "code",
   "execution_count": null,
   "id": "154a55df",
   "metadata": {},
   "outputs": [
    {
     "name": "stdout",
     "output_type": "stream",
     "text": [
      " * sqlite:///sample.db\n",
      "Done.\n",
      "Done.\n",
      "7 rows affected.\n"
     ]
    },
    {
     "data": {
      "text/plain": [
       "[]"
      ]
     },
     "execution_count": 9,
     "metadata": {},
     "output_type": "execute_result"
    }
   ],
   "source": [
    "%%sql\n",
    "DROP TABLE IF EXISTS bookcase;\n",
    "-- Create the 'bookcase' table\n",
    "CREATE TABLE IF NOT EXISTS bookcase (\n",
    "    book_id INTEGER PRIMARY KEY AUTOINCREMENT,\n",
    "    title VARCHAR(255),\n",
    "    year INTEGER,\n",
    "    author VARCHAR(255),\n",
    "    language VARCHAR(255),\n",
    "    number_of_pages INTEGER,\n",
    "    envelope_color VARCHAR(255),\n",
    "    envelope_height_mm INTEGER,\n",
    "    shelf_x INTEGER,\n",
    "    shelf_y INTEGER\n",
    "  );\n",
    "-- INSERT sample data\n",
    "INSERT INTO bookcase (title, year, author, language, number_of_pages, envelope_color, envelope_height_mm, shelf_x, shelf_y) VALUES\n",
    "('Brzechwa dzieciom. Dzieła wszystkie: Bajki', 2018, 'Jan Brzechwa',    'polish',     352,  'yellow',      250, 2, 1),\n",
    "('Wiersyzki domowe',                           2016, 'Michał Rusinek',  'polish',     184,  'red',   213, 3, 1),\n",
    "('The Wonky Donkey',                           2018, 'Craig Smith',     'english',  24,   'blue',  250, 3, 3),\n",
    "('Wiewiórki, które nie chciały się dzielić',   2020, 'Rachel Bright, Jim Field', 'polish',  32,   'brown',  330, 1, 1),\n",
    "('Ganz schön Schweiz. Ein cartoon survival guide.', 2017, 'Sergio J. Lievano, Wolfgang Koydl', 'german',  160,   'red',  250, 1, 1),\n",
    "('Tuż przed gwiazdką', 2019, 'Barbara Supeł, Marta Koshulinska', 'polish',  48,   'red',  250, 1, 1),\n",
    "('Walizka pełna marzeń', 2022, 'Bardijewska Liliana', 'polish',  112,   'red',  150, 1, 1);\n"
   ]
  },
  {
   "cell_type": "code",
   "execution_count": 10,
   "id": "9b8149ab",
   "metadata": {},
   "outputs": [
    {
     "name": "stdout",
     "output_type": "stream",
     "text": [
      " * sqlite:///sample.db\n",
      "Done.\n"
     ]
    },
    {
     "data": {
      "text/html": [
       "<table>\n",
       "    <thead>\n",
       "        <tr>\n",
       "            <th>name</th>\n",
       "        </tr>\n",
       "    </thead>\n",
       "    <tbody>\n",
       "        <tr>\n",
       "            <td>bookcase</td>\n",
       "        </tr>\n",
       "        <tr>\n",
       "            <td>sqlite_sequence</td>\n",
       "        </tr>\n",
       "    </tbody>\n",
       "</table>"
      ],
      "text/plain": [
       "[('bookcase',), ('sqlite_sequence',)]"
      ]
     },
     "execution_count": 10,
     "metadata": {},
     "output_type": "execute_result"
    }
   ],
   "source": [
    "%sql SELECT name FROM sqlite_master WHERE type='table';"
   ]
  },
  {
   "cell_type": "code",
   "execution_count": 11,
   "id": "f0e9b41d",
   "metadata": {},
   "outputs": [
    {
     "name": "stdout",
     "output_type": "stream",
     "text": [
      " * sqlite:///sample.db\n",
      "Done.\n"
     ]
    },
    {
     "data": {
      "text/html": [
       "<table>\n",
       "    <thead>\n",
       "        <tr>\n",
       "            <th>book_id</th>\n",
       "            <th>title</th>\n",
       "            <th>year</th>\n",
       "            <th>author</th>\n",
       "            <th>language</th>\n",
       "            <th>number_of_pages</th>\n",
       "            <th>envelope_color</th>\n",
       "            <th>envelope_height_mm</th>\n",
       "            <th>shelf_x</th>\n",
       "            <th>shelf_y</th>\n",
       "        </tr>\n",
       "    </thead>\n",
       "    <tbody>\n",
       "        <tr>\n",
       "            <td>1</td>\n",
       "            <td>Brzechwa dzieciom. Dzieła wszystkie: Bajki</td>\n",
       "            <td>2018</td>\n",
       "            <td>Jan Brzechwa</td>\n",
       "            <td>polish</td>\n",
       "            <td>352</td>\n",
       "            <td>yellow</td>\n",
       "            <td>250</td>\n",
       "            <td>2</td>\n",
       "            <td>1</td>\n",
       "        </tr>\n",
       "        <tr>\n",
       "            <td>2</td>\n",
       "            <td>Wiersyzki domowe</td>\n",
       "            <td>2016</td>\n",
       "            <td>Michał Rusinek</td>\n",
       "            <td>polish</td>\n",
       "            <td>184</td>\n",
       "            <td>red</td>\n",
       "            <td>213</td>\n",
       "            <td>3</td>\n",
       "            <td>1</td>\n",
       "        </tr>\n",
       "        <tr>\n",
       "            <td>3</td>\n",
       "            <td>The Wonky Donkey</td>\n",
       "            <td>2018</td>\n",
       "            <td>Craig Smith</td>\n",
       "            <td>english</td>\n",
       "            <td>24</td>\n",
       "            <td>blue</td>\n",
       "            <td>250</td>\n",
       "            <td>3</td>\n",
       "            <td>3</td>\n",
       "        </tr>\n",
       "        <tr>\n",
       "            <td>4</td>\n",
       "            <td>Wiewiórki, które nie chciały się dzielić</td>\n",
       "            <td>2020</td>\n",
       "            <td>Rachel Bright, Jim Field</td>\n",
       "            <td>polish</td>\n",
       "            <td>32</td>\n",
       "            <td>brown</td>\n",
       "            <td>330</td>\n",
       "            <td>1</td>\n",
       "            <td>1</td>\n",
       "        </tr>\n",
       "        <tr>\n",
       "            <td>5</td>\n",
       "            <td>Ganz schön Schweiz. Ein cartoon survival guide.</td>\n",
       "            <td>2017</td>\n",
       "            <td>Sergio J. Lievano, Wolfgang Koydl</td>\n",
       "            <td>german</td>\n",
       "            <td>160</td>\n",
       "            <td>red</td>\n",
       "            <td>250</td>\n",
       "            <td>1</td>\n",
       "            <td>1</td>\n",
       "        </tr>\n",
       "        <tr>\n",
       "            <td>6</td>\n",
       "            <td>Tuż przed gwiazdką</td>\n",
       "            <td>2019</td>\n",
       "            <td>Barbara Supeł, Marta Koshulinska</td>\n",
       "            <td>polish</td>\n",
       "            <td>48</td>\n",
       "            <td>red</td>\n",
       "            <td>250</td>\n",
       "            <td>1</td>\n",
       "            <td>1</td>\n",
       "        </tr>\n",
       "        <tr>\n",
       "            <td>7</td>\n",
       "            <td>Walizka pełna marzeń</td>\n",
       "            <td>2022</td>\n",
       "            <td>Bardijewska Liliana</td>\n",
       "            <td>polish</td>\n",
       "            <td>112</td>\n",
       "            <td>red</td>\n",
       "            <td>150</td>\n",
       "            <td>1</td>\n",
       "            <td>1</td>\n",
       "        </tr>\n",
       "    </tbody>\n",
       "</table>"
      ],
      "text/plain": [
       "[(1, 'Brzechwa dzieciom. Dzieła wszystkie: Bajki', 2018, 'Jan Brzechwa', 'polish', 352, 'yellow', 250, 2, 1),\n",
       " (2, 'Wiersyzki domowe', 2016, 'Michał Rusinek', 'polish', 184, 'red', 213, 3, 1),\n",
       " (3, 'The Wonky Donkey', 2018, 'Craig Smith', 'english', 24, 'blue', 250, 3, 3),\n",
       " (4, 'Wiewiórki, które nie chciały się dzielić', 2020, 'Rachel Bright, Jim Field', 'polish', 32, 'brown', 330, 1, 1),\n",
       " (5, 'Ganz schön Schweiz. Ein cartoon survival guide.', 2017, 'Sergio J. Lievano, Wolfgang Koydl', 'german', 160, 'red', 250, 1, 1),\n",
       " (6, 'Tuż przed gwiazdką', 2019, 'Barbara Supeł, Marta Koshulinska', 'polish', 48, 'red', 250, 1, 1),\n",
       " (7, 'Walizka pełna marzeń', 2022, 'Bardijewska Liliana', 'polish', 112, 'red', 150, 1, 1)]"
      ]
     },
     "execution_count": 11,
     "metadata": {},
     "output_type": "execute_result"
    }
   ],
   "source": [
    "%sql SELECT * FROM bookcase;"
   ]
  },
  {
   "cell_type": "markdown",
   "id": "7f6c2265",
   "metadata": {
    "id": "83901899a79b",
    "papermill": {
     "duration": 0.007463,
     "end_time": "2025-04-04T21:44:34.397049",
     "exception": false,
     "start_time": "2025-04-04T21:44:34.389586",
     "status": "completed"
    },
    "tags": []
   },
   "source": [
    "## Define database functions\n",
    "\n",
    "Function calling with Gemini API's Python SDK can be implemented by defining [an OpenAPI schema](https://ai.google.dev/api/caching#Schema) that is passed to the model. You can also define Python functions and let the SDK inspect them to automatically define the schema. In this latter case, it's important that the functions are type annotated and have accurate docstrings that describe what the functions do - the model has no insight into the function body, so the docs function as the interface.\n",
    "\n",
    "By providing three key pieces of functionality - listing tables, describing a table, and executing a query - the LLM (much like a human user) will have the basic tools needed to understand and interrogate the database.\n",
    "\n",
    "Start with a database connection that will be used across all of the functions."
   ]
  },
  {
   "cell_type": "code",
   "execution_count": 12,
   "id": "4f0cf2bf",
   "metadata": {
    "execution": {
     "iopub.execute_input": "2025-04-04T21:44:34.415297Z",
     "iopub.status.busy": "2025-04-04T21:44:34.414835Z",
     "iopub.status.idle": "2025-04-04T21:44:34.421767Z",
     "shell.execute_reply": "2025-04-04T21:44:34.419659Z"
    },
    "id": "437168bc6b6e",
    "papermill": {
     "duration": 0.020235,
     "end_time": "2025-04-04T21:44:34.425190",
     "exception": false,
     "start_time": "2025-04-04T21:44:34.404955",
     "status": "completed"
    },
    "tags": []
   },
   "outputs": [],
   "source": [
    "import sqlite3\n",
    "\n",
    "db_file = \"sample.db\"\n",
    "db_conn = sqlite3.connect(db_file)"
   ]
  },
  {
   "cell_type": "markdown",
   "id": "28a27b15",
   "metadata": {
    "id": "b68b1a2c37d9",
    "papermill": {
     "duration": 0.007897,
     "end_time": "2025-04-04T21:44:34.441590",
     "exception": false,
     "start_time": "2025-04-04T21:44:34.433693",
     "status": "completed"
    },
    "tags": []
   },
   "source": [
    "The first function will list all tables available in the database. Define it, and test it out to ensure it works."
   ]
  },
  {
   "cell_type": "code",
   "execution_count": 13,
   "id": "15481a75",
   "metadata": {
    "execution": {
     "iopub.execute_input": "2025-04-04T21:44:34.459856Z",
     "iopub.status.busy": "2025-04-04T21:44:34.459437Z",
     "iopub.status.idle": "2025-04-04T21:44:34.469897Z",
     "shell.execute_reply": "2025-04-04T21:44:34.468631Z"
    },
    "id": "bdb0e4d2bb4b",
    "papermill": {
     "duration": 0.022372,
     "end_time": "2025-04-04T21:44:34.472328",
     "exception": false,
     "start_time": "2025-04-04T21:44:34.449956",
     "status": "completed"
    },
    "tags": []
   },
   "outputs": [
    {
     "name": "stdout",
     "output_type": "stream",
     "text": [
      " - DB CALL: list_tables()\n"
     ]
    },
    {
     "data": {
      "text/plain": [
       "['bookcase', 'sqlite_sequence']"
      ]
     },
     "execution_count": 13,
     "metadata": {},
     "output_type": "execute_result"
    }
   ],
   "source": [
    "def list_tables() -> list[str]:\n",
    "    \"\"\"Retrieve the names of all tables in the database.\"\"\"\n",
    "    # Include print logging statements so you can see when functions are being called.\n",
    "    print(' - DB CALL: list_tables()')\n",
    "\n",
    "    cursor = db_conn.cursor()\n",
    "\n",
    "    # Fetch the table names.\n",
    "    cursor.execute(\"SELECT name FROM sqlite_master WHERE type='table';\")\n",
    "\n",
    "    tables = cursor.fetchall()\n",
    "    return [t[0] for t in tables]\n",
    "\n",
    "\n",
    "list_tables()"
   ]
  },
  {
   "cell_type": "markdown",
   "id": "0a8b9fc0",
   "metadata": {
    "id": "b6c010b1b6c2",
    "papermill": {
     "duration": 0.007767,
     "end_time": "2025-04-04T21:44:34.488135",
     "exception": false,
     "start_time": "2025-04-04T21:44:34.480368",
     "status": "completed"
    },
    "tags": []
   },
   "source": [
    "Once the available tables is known, the next step a database user will need is to understand what columns are available in a given table. Define that too, and test that it works as expected."
   ]
  },
  {
   "cell_type": "code",
   "execution_count": 14,
   "id": "5362f29e",
   "metadata": {
    "execution": {
     "iopub.execute_input": "2025-04-04T21:44:34.508168Z",
     "iopub.status.busy": "2025-04-04T21:44:34.507763Z",
     "iopub.status.idle": "2025-04-04T21:44:34.519925Z",
     "shell.execute_reply": "2025-04-04T21:44:34.518657Z"
    },
    "id": "ecdb109298c4",
    "papermill": {
     "duration": 0.025886,
     "end_time": "2025-04-04T21:44:34.522224",
     "exception": false,
     "start_time": "2025-04-04T21:44:34.496338",
     "status": "completed"
    },
    "tags": []
   },
   "outputs": [
    {
     "name": "stdout",
     "output_type": "stream",
     "text": [
      " - DB CALL: describe_table(bookcase)\n"
     ]
    },
    {
     "data": {
      "text/plain": [
       "[('book_id', 'INTEGER'),\n",
       " ('title', 'VARCHAR(255)'),\n",
       " ('year', 'INTEGER'),\n",
       " ('author', 'VARCHAR(255)'),\n",
       " ('language', 'VARCHAR(255)'),\n",
       " ('number_of_pages', 'INTEGER'),\n",
       " ('envelope_color', 'VARCHAR(255)'),\n",
       " ('envelope_height_mm', 'INTEGER'),\n",
       " ('shelf_x', 'INTEGER'),\n",
       " ('shelf_y', 'INTEGER')]"
      ]
     },
     "execution_count": 14,
     "metadata": {},
     "output_type": "execute_result"
    }
   ],
   "source": [
    "def describe_table(table_name: str) -> list[tuple[str, str]]:\n",
    "    \"\"\"Look up the table schema.\n",
    "\n",
    "    Returns:\n",
    "      List of columns, where each entry is a tuple of (column, type).\n",
    "    \"\"\"\n",
    "    print(f' - DB CALL: describe_table({table_name})')\n",
    "\n",
    "    cursor = db_conn.cursor()\n",
    "\n",
    "    cursor.execute(f\"PRAGMA table_info({table_name});\")\n",
    "\n",
    "    schema = cursor.fetchall()\n",
    "    # [column index, column name, column type, ...]\n",
    "    return [(col[1], col[2]) for col in schema]\n",
    "\n",
    "\n",
    "describe_table(\"bookcase\")"
   ]
  },
  {
   "cell_type": "markdown",
   "id": "dd0c8b3a",
   "metadata": {
    "id": "f6053a2ca272",
    "papermill": {
     "duration": 0.008175,
     "end_time": "2025-04-04T21:44:34.538507",
     "exception": false,
     "start_time": "2025-04-04T21:44:34.530332",
     "status": "completed"
    },
    "tags": []
   },
   "source": [
    "Now that the system knows what tables and columns are present, it has enough information to be able to generate and run a `SELECT` query. Now provide that functionality, and test that it works."
   ]
  },
  {
   "cell_type": "code",
   "execution_count": 15,
   "id": "1961891a",
   "metadata": {
    "execution": {
     "iopub.execute_input": "2025-04-04T21:44:34.557733Z",
     "iopub.status.busy": "2025-04-04T21:44:34.557293Z",
     "iopub.status.idle": "2025-04-04T21:44:34.567919Z",
     "shell.execute_reply": "2025-04-04T21:44:34.566758Z"
    },
    "id": "9e405db8b3f6",
    "papermill": {
     "duration": 0.022502,
     "end_time": "2025-04-04T21:44:34.570359",
     "exception": false,
     "start_time": "2025-04-04T21:44:34.547857",
     "status": "completed"
    },
    "tags": []
   },
   "outputs": [
    {
     "name": "stdout",
     "output_type": "stream",
     "text": [
      " - DB CALL: execute_query(select * from bookcase)\n"
     ]
    },
    {
     "data": {
      "text/plain": [
       "[(1,\n",
       "  'Brzechwa dzieciom. Dzieła wszystkie: Bajki',\n",
       "  2018,\n",
       "  'Jan Brzechwa',\n",
       "  'polish',\n",
       "  352,\n",
       "  'yellow',\n",
       "  250,\n",
       "  2,\n",
       "  1),\n",
       " (2,\n",
       "  'Wiersyzki domowe',\n",
       "  2016,\n",
       "  'Michał Rusinek',\n",
       "  'polish',\n",
       "  184,\n",
       "  'red',\n",
       "  213,\n",
       "  3,\n",
       "  1),\n",
       " (3,\n",
       "  'The Wonky Donkey',\n",
       "  2018,\n",
       "  'Craig Smith',\n",
       "  'english',\n",
       "  24,\n",
       "  'blue',\n",
       "  250,\n",
       "  3,\n",
       "  3),\n",
       " (4,\n",
       "  'Wiewiórki, które nie chciały się dzielić',\n",
       "  2020,\n",
       "  'Rachel Bright, Jim Field',\n",
       "  'polish',\n",
       "  32,\n",
       "  'brown',\n",
       "  330,\n",
       "  1,\n",
       "  1),\n",
       " (5,\n",
       "  'Ganz schön Schweiz. Ein cartoon survival guide.',\n",
       "  2017,\n",
       "  'Sergio J. Lievano, Wolfgang Koydl',\n",
       "  'german',\n",
       "  160,\n",
       "  'red',\n",
       "  250,\n",
       "  1,\n",
       "  1),\n",
       " (6,\n",
       "  'Tuż przed gwiazdką',\n",
       "  2019,\n",
       "  'Barbara Supeł, Marta Koshulinska',\n",
       "  'polish',\n",
       "  48,\n",
       "  'red',\n",
       "  250,\n",
       "  1,\n",
       "  1),\n",
       " (7,\n",
       "  'Walizka pełna marzeń',\n",
       "  2022,\n",
       "  'Bardijewska Liliana',\n",
       "  'polish',\n",
       "  112,\n",
       "  'red',\n",
       "  150,\n",
       "  1,\n",
       "  1)]"
      ]
     },
     "execution_count": 15,
     "metadata": {},
     "output_type": "execute_result"
    }
   ],
   "source": [
    "def execute_query(sql: str) -> list[list[str]]:\n",
    "    \"\"\"Execute an SQL statement, returning the results.\"\"\"\n",
    "    print(f' - DB CALL: execute_query({sql})')\n",
    "\n",
    "    cursor = db_conn.cursor()\n",
    "\n",
    "    cursor.execute(sql)\n",
    "    return cursor.fetchall() \n",
    "\n",
    "\n",
    "execute_query(\"select * from bookcase\")"
   ]
  },
  {
   "cell_type": "markdown",
   "id": "7098ce14",
   "metadata": {
    "id": "ac464dfb35a0",
    "papermill": {
     "duration": 0.007868,
     "end_time": "2025-04-04T21:44:34.587937",
     "exception": false,
     "start_time": "2025-04-04T21:44:34.580069",
     "status": "completed"
    },
    "tags": []
   },
   "source": [
    "## Implement function calls\n",
    "\n",
    "Now you can put it all together in a call to the Gemini API.\n",
    "\n",
    "Function calling works by adding specific messages to a chat session. When function schemas are defined and made available to the model and a conversation is started, instead of returning a text response, the model may return a `function_call` instead. When this happens, the client must respond with a `function_response`, indicating the result of the call, and the conversation can continue on as normal.\n",
    "\n",
    "This function calling interaction normally happens manually, allowing you, the client, to validate and initiate the call. However the Python SDK also supports **automatic function calling**, where the supplied functions will be automatically invoked. This is a powerful feature and should be used with care, such as when the functions have no [side-effects](https://en.wikipedia.org/wiki/Side_effect_(computer_science)).\n",
    "\n",
    "Here's the state diagram representing the conversation flow with function calling. With automatic function calling, the bottom row is executed automatically by the Python SDK. With manual function calling, you write the code to run each step individually.\n",
    "\n",
    "![function calling state diagram](https://codelabs.developers.google.com/static/codelabs/gemini-function-calling/img/gemini-function-calling-overview_1440.png)"
   ]
  },
  {
   "cell_type": "code",
   "execution_count": 16,
   "id": "c8ed699c",
   "metadata": {
    "execution": {
     "iopub.execute_input": "2025-04-04T21:44:34.606149Z",
     "iopub.status.busy": "2025-04-04T21:44:34.605739Z",
     "iopub.status.idle": "2025-04-04T21:44:34.785580Z",
     "shell.execute_reply": "2025-04-04T21:44:34.784359Z"
    },
    "id": "f4839540066d",
    "papermill": {
     "duration": 0.192085,
     "end_time": "2025-04-04T21:44:34.788286",
     "exception": false,
     "start_time": "2025-04-04T21:44:34.596201",
     "status": "completed"
    },
    "tags": []
   },
   "outputs": [],
   "source": [
    "# These are the Python functions defined above.\n",
    "db_tools = [list_tables, describe_table, execute_query]\n",
    "\n",
    "instruction = \"\"\"You are a helpful chatbot as Minecraft female Librarian that can interact with an SQL database\n",
    "for Maja's Library in her room. You will take the users questions and turn them into SQL\n",
    "queries using the tools available. Once you have the information you need, you will\n",
    "answer the user's question in Polish language, using the data returned.\n",
    "You will talk to a 7 year old girl, so you use apropriate language form with kindeness and sympathy.\n",
    "\n",
    "Use list_tables to see what tables are present, describe_table to understand the\n",
    "schema, and execute_query to issue an SQL SELECT query.\"\"\"\n",
    "\n",
    "client = genai.Client(api_key=GOOGLE_API_KEY)\n",
    "\n",
    "# Start a chat with automatic function calling enabled.\n",
    "chat = client.chats.create(\n",
    "    model=\"gemini-2.0-flash\",\n",
    "    config=types.GenerateContentConfig(\n",
    "        system_instruction=instruction,\n",
    "        tools=db_tools,\n",
    "    ),\n",
    ")"
   ]
  },
  {
   "cell_type": "markdown",
   "id": "f0623e16",
   "metadata": {
    "id": "5f120977f1ee",
    "papermill": {
     "duration": 0.008126,
     "end_time": "2025-04-04T21:44:34.804812",
     "exception": false,
     "start_time": "2025-04-04T21:44:34.796686",
     "status": "completed"
    },
    "tags": []
   },
   "source": [
    "Now you can engage in a chat conversation where you can ask about the contents of the database."
   ]
  },
  {
   "cell_type": "code",
   "execution_count": 17,
   "id": "fb6a26aa",
   "metadata": {
    "execution": {
     "iopub.execute_input": "2025-04-04T21:44:34.824382Z",
     "iopub.status.busy": "2025-04-04T21:44:34.823916Z",
     "iopub.status.idle": "2025-04-04T21:44:36.597902Z",
     "shell.execute_reply": "2025-04-04T21:44:36.596628Z"
    },
    "id": "111cfb79338b",
    "papermill": {
     "duration": 1.786796,
     "end_time": "2025-04-04T21:44:36.600232",
     "exception": false,
     "start_time": "2025-04-04T21:44:34.813436",
     "status": "completed"
    },
    "tags": []
   },
   "outputs": [
    {
     "name": "stdout",
     "output_type": "stream",
     "text": [
      " - DB CALL: list_tables()\n",
      " - DB CALL: describe_table(bookcase)\n",
      " - DB CALL: execute_query(SELECT title, year FROM bookcase ORDER BY year DESC LIMIT 1)\n",
      "\n",
      "Mam to! Najnowsza książka w Twojej biblioteczce to \"Walizka pełna marzeń\" i została wydana w 2022 roku. Fajnie, prawda?\n",
      "\n"
     ]
    }
   ],
   "source": [
    "#resp = chat.send_message(\"Ktora z moich ksiazek jest najnowsza? Wyjasnij prosze.\")\n",
    "resp = chat.send_message(\"Which of my books is the newest? Explain me please.\")\n",
    "print(f\"\\n{resp.text}\")"
   ]
  },
  {
   "cell_type": "code",
   "execution_count": 18,
   "id": "34a0a260",
   "metadata": {},
   "outputs": [
    {
     "name": "stdout",
     "output_type": "stream",
     "text": [
      " - DB CALL: execute_query(SELECT shelf_x, shelf_y FROM bookcase WHERE title = 'Walizka pełna marzeń')\n",
      "\n",
      "Już wiem! \"Walizka pełna marzeń\" leży na półce o numerze 1, w miejscu o numerze 1. To znaczy, że jest na pierwszej półce, jako pierwsza książka od lewej. Szukaj dobrze, na pewno ją znajdziesz!\n",
      "\n"
     ]
    }
   ],
   "source": [
    "resp = chat.send_message(\"Gdzie ja znajde w biblioteczce?\")\n",
    "# resp = chat.send_message(\"Which of my books is the newest? Explain me please.\")\n",
    "print(f\"\\n{resp.text}\")"
   ]
  },
  {
   "cell_type": "markdown",
   "id": "e11fcc5c",
   "metadata": {
    "id": "1f5bb6d9bd6a",
    "papermill": {
     "duration": 0.008501,
     "end_time": "2025-04-04T21:44:41.495027",
     "exception": false,
     "start_time": "2025-04-04T21:44:41.486526",
     "status": "completed"
    },
    "tags": []
   },
   "source": [
    "### Inspecting the conversation\n",
    "\n",
    "To see the calls that the model makes, and what the client returns in response, you can inspect the chat history. This helper function will print out each turn along with the relevant fields passed or returned."
   ]
  },
  {
   "cell_type": "code",
   "execution_count": 19,
   "id": "a51588f2",
   "metadata": {
    "execution": {
     "iopub.execute_input": "2025-04-04T21:44:41.514898Z",
     "iopub.status.busy": "2025-04-04T21:44:41.514541Z",
     "iopub.status.idle": "2025-04-04T21:44:41.522684Z",
     "shell.execute_reply": "2025-04-04T21:44:41.521588Z"
    },
    "id": "639963cc64e2",
    "papermill": {
     "duration": 0.021997,
     "end_time": "2025-04-04T21:44:41.525842",
     "exception": false,
     "start_time": "2025-04-04T21:44:41.503845",
     "status": "completed"
    },
    "tags": []
   },
   "outputs": [
    {
     "name": "stdout",
     "output_type": "stream",
     "text": [
      "User:\n",
      "  \"Which of my books is the newest? Explain me please.\"\n",
      "\n",
      "Model:\n",
      "  \"Cześć! Żeby sprawdzić, która z Twoich książek jest najnowsza, potrzebuję spojrzeć do bazy danych w biblioteczce. Zaraz to zrobię, dobrze? Sprawdzę, jakie masz książki i kiedy zostały wydane, żeby znaleźć tę najnowszą. Daj mi chwilkę!\n",
      "\"\n",
      "  Function call: list_tables()\n",
      "\n",
      "User:\n",
      "  Function response:\n",
      "    ['bookcase', 'sqlite_sequence']\n",
      "\n",
      "Model:\n",
      "  \"Okay, widzę, że masz tabelę o nazwie \"bookcase\". Teraz muszę sprawdzić, jakie informacje są zapisane o każdej książce, czyli jakie są kolumny w tej tabeli. Poczekaj chwilkę, dobrze?\n",
      "\"\n",
      "  Function call: describe_table(table_name=bookcase)\n",
      "\n",
      "User:\n",
      "  Function response:\n",
      "    [('book_id', 'INTEGER'), ('title', 'VARCHAR(255)'), ('year', 'INTEGER'), ('author', 'VARCHAR(255)'), ('language', 'VARCHAR(255)'), ('number_of_pages', 'INTEGER'), ('envelope_color', 'VARCHAR(255)'), ('envelope_height_mm', 'INTEGER'), ('shelf_x', 'INTEGER'), ('shelf_y', 'INTEGER')]\n",
      "\n",
      "Model:\n",
      "  \"Super! Teraz już wiem, jakie informacje mogę znaleźć o Twoich książkach. Widzę kolumnę \"year\", która pewnie mówi o tym, kiedy książka została wydana. Sprawdzę teraz, która książka ma największą wartość w kolumnie \"year\", czyli która została wydana najpóźniej. To będzie ta najnowsza! Chwileczkę...\n",
      "\"\n",
      "  Function call: execute_query(sql=SELECT title, year FROM bookcase ORDER BY year DESC LIMIT 1)\n",
      "\n",
      "User:\n",
      "  Function response:\n",
      "    [('Walizka pełna marzeń', 2022)]\n",
      "\n",
      "Model:\n",
      "  \"Mam to! Najnowsza książka w Twojej biblioteczce to \"Walizka pełna marzeń\" i została wydana w 2022 roku. Fajnie, prawda?\n",
      "\"\n",
      "\n",
      "User:\n",
      "  \"Gdzie ja znajde w biblioteczce?\"\n",
      "\n",
      "Model:\n",
      "  \"Żeby sprawdzić, gdzie dokładnie leży \"Walizka pełna marzeń\", muszę jeszcze raz zajrzeć do bazy danych. Pamiętasz, jak patrzyliśmy na kolumny w tabeli \"bookcase\"? Tam były takie dziwne nazwy jak \"shelf_x\" i \"shelf_y\". One mówią o tym, na której półce i w którym miejscu na półce leży książka. Zaraz to sprawdzę i Ci powiem, dobrze?\n",
      "\"\n",
      "  Function call: execute_query(sql=SELECT shelf_x, shelf_y FROM bookcase WHERE title = 'Walizka pełna marzeń')\n",
      "\n",
      "User:\n",
      "  Function response:\n",
      "    [(1, 1)]\n",
      "\n",
      "Model:\n",
      "  \"Już wiem! \"Walizka pełna marzeń\" leży na półce o numerze 1, w miejscu o numerze 1. To znaczy, że jest na pierwszej półce, jako pierwsza książka od lewej. Szukaj dobrze, na pewno ją znajdziesz!\n",
      "\"\n",
      "\n"
     ]
    }
   ],
   "source": [
    "import textwrap\n",
    "\n",
    "\n",
    "def print_chat_turns(chat):\n",
    "    \"\"\"Prints out each turn in the chat history, including function calls and responses.\"\"\"\n",
    "    for event in chat.get_history():\n",
    "        print(f\"{event.role.capitalize()}:\")\n",
    "\n",
    "        for part in event.parts:\n",
    "            if txt := part.text:\n",
    "                print(f'  \"{txt}\"')\n",
    "            elif fn := part.function_call:\n",
    "                args = \", \".join(f\"{key}={val}\" for key, val in fn.args.items())\n",
    "                print(f\"  Function call: {fn.name}({args})\")\n",
    "            elif resp := part.function_response:\n",
    "                print(\"  Function response:\")\n",
    "                print(textwrap.indent(str(resp.response['result']), \"    \"))\n",
    "\n",
    "        print()\n",
    "\n",
    "\n",
    "print_chat_turns(chat)"
   ]
  },
  {
   "cell_type": "markdown",
   "id": "9d1a4857",
   "metadata": {
    "id": "8a17aeb2a3ef",
    "papermill": {
     "duration": 0.008662,
     "end_time": "2025-04-04T21:44:41.543536",
     "exception": false,
     "start_time": "2025-04-04T21:44:41.534874",
     "status": "completed"
    },
    "tags": []
   },
   "source": [
    "In this output you can see each of the conversational turns that were made. Note that the model doesn't remember anything outside of the chat history, so you can make changes to the database structure or data and the model will respond without needing any code changes - try this out!"
   ]
  },
  {
   "cell_type": "markdown",
   "id": "2fa9fd28",
   "metadata": {
    "papermill": {
     "duration": 0.008471,
     "end_time": "2025-04-04T21:44:41.560771",
     "exception": false,
     "start_time": "2025-04-04T21:44:41.552300",
     "status": "completed"
    },
    "tags": []
   },
   "source": [
    "## Compositional function calling\n",
    "\n",
    "A powerful new feature in Gemini 2.0 is the model's ability to compose user-provided function calls together while generating code.\n",
    "\n",
    "This means that the model is able to take the available tools, generate code that uses it, and execute it all.\n",
    "\n",
    "The feature requires the Live API, so this step uses different setup code than most of the examples you have seen so far. As the Multimodal Live API is a bi-directional streaming service, everything is set up in advance and then executed. This is a little more complex but the result is quite powerful.\n",
    "\n",
    "First define a function that will handle streaming model output. It will stream text output, handle tool-calling and show the generated code that the model writes and executes to fulfill the task."
   ]
  },
  {
   "cell_type": "code",
   "execution_count": 20,
   "id": "90433f2a",
   "metadata": {
    "execution": {
     "iopub.execute_input": "2025-04-04T21:44:41.580750Z",
     "iopub.status.busy": "2025-04-04T21:44:41.580324Z",
     "iopub.status.idle": "2025-04-04T21:44:41.592126Z",
     "shell.execute_reply": "2025-04-04T21:44:41.590912Z"
    },
    "papermill": {
     "duration": 0.024794,
     "end_time": "2025-04-04T21:44:41.594409",
     "exception": false,
     "start_time": "2025-04-04T21:44:41.569615",
     "status": "completed"
    },
    "tags": []
   },
   "outputs": [],
   "source": [
    "from pprint import pformat\n",
    "from IPython.display import display, Image, Markdown\n",
    "\n",
    "\n",
    "async def handle_response(stream, tool_impl=None):\n",
    "  \"\"\"Stream output and handle any tool calls during the session.\"\"\"\n",
    "  all_responses = []\n",
    "\n",
    "  async for msg in stream.receive():\n",
    "    all_responses.append(msg)\n",
    "\n",
    "    if text := msg.text:\n",
    "      # Output any text chunks that are streamed back.\n",
    "      if len(all_responses) < 2 or not all_responses[-2].text:\n",
    "        # Display a header if this is the first text chunk.\n",
    "        display(Markdown('### Text'))\n",
    "\n",
    "      print(text, end='')\n",
    "\n",
    "    elif tool_call := msg.tool_call:\n",
    "      # Handle tool-call requests.\n",
    "      for fc in tool_call.function_calls:\n",
    "        display(Markdown('### Tool call'))\n",
    "\n",
    "        # Execute the tool and collect the result to return to the model.\n",
    "        if callable(tool_impl):\n",
    "          try:\n",
    "            result = tool_impl(**fc.args)\n",
    "          except Exception as e:\n",
    "            result = str(e)\n",
    "        else:\n",
    "          result = 'ok'\n",
    "\n",
    "        tool_response = types.LiveClientToolResponse(\n",
    "            function_responses=[types.FunctionResponse(\n",
    "                name=fc.name,\n",
    "                id=fc.id,\n",
    "                response={'result': result},\n",
    "            )]\n",
    "        )\n",
    "        await stream.send(input=tool_response)\n",
    "\n",
    "    elif msg.server_content and msg.server_content.model_turn:\n",
    "      # Print any messages showing code the model generated and ran.\n",
    "\n",
    "      for part in msg.server_content.model_turn.parts:\n",
    "          if code := part.executable_code:\n",
    "            display(Markdown(\n",
    "                f'### Code\\n```\\n{code.code}\\n```'))\n",
    "\n",
    "          elif result := part.code_execution_result:\n",
    "            display(Markdown(f'### Result: {result.outcome}\\n'\n",
    "                             f'```\\n{pformat(result.output)}\\n```'))\n",
    "\n",
    "          elif img := part.inline_data:\n",
    "            display(Image(img.data))\n",
    "\n",
    "  print()\n",
    "  return all_responses"
   ]
  },
  {
   "cell_type": "markdown",
   "id": "e52c749e",
   "metadata": {
    "papermill": {
     "duration": 0.008618,
     "end_time": "2025-04-04T21:44:41.612709",
     "exception": false,
     "start_time": "2025-04-04T21:44:41.604091",
     "status": "completed"
    },
    "tags": []
   },
   "source": [
    "### Textual live database chat\n",
    "\n",
    "Now connect to the model and start a conversation.\n",
    "\n",
    "The Live API is a streaming API, so this example is fully pre-scripted and only has a single user input. Despite this, the request still requires the model to perform a bit of back-and-forth to interrogate the database, and you should see the model generate some code that uses the `execute_query` tool in a loop."
   ]
  },
  {
   "cell_type": "code",
   "execution_count": 21,
   "id": "b546d816",
   "metadata": {
    "execution": {
     "iopub.execute_input": "2025-04-04T21:44:41.633216Z",
     "iopub.status.busy": "2025-04-04T21:44:41.632873Z",
     "iopub.status.idle": "2025-04-04T21:44:45.587336Z",
     "shell.execute_reply": "2025-04-04T21:44:45.585884Z"
    },
    "papermill": {
     "duration": 3.968488,
     "end_time": "2025-04-04T21:44:45.590608",
     "exception": false,
     "start_time": "2025-04-04T21:44:41.622120",
     "status": "completed"
    },
    "tags": []
   },
   "outputs": [],
   "source": [
    "model = 'gemini-2.0-flash-exp'\n",
    "live_client = genai.Client(api_key=GOOGLE_API_KEY,\n",
    "                           http_options=types.HttpOptions(api_version='v1alpha'))\n",
    "\n",
    "# Wrap the existing execute_query tool you used in the earlier example.\n",
    "execute_query_tool_def = types.FunctionDeclaration.from_callable(\n",
    "    client=live_client, callable=execute_query)\n",
    "\n",
    "# Provide the model with enough information to use the tool, such as describing\n",
    "# the database so it understands which SQL syntax to use.\n",
    "sys_int = \"\"\"You are a database interface. Use the `execute_query` function\n",
    "to answer the users questions by looking up information in the database,\n",
    "running any necessary queries and responding to the user.\n",
    "\n",
    "You need to look up table schema using sqlite3 syntax SQL, then once an\n",
    "answer is found be sure to tell the user. If the user is requesting an\n",
    "action, you must also execute the actions.\n",
    "\n",
    "Remember to escape all high commas of the text fields.\n",
    "\"\"\"\n",
    "\n",
    "config = {\n",
    "    \"response_modalities\": [\"TEXT\"],\n",
    "    \"system_instruction\": {\"parts\": [{\"text\": sys_int}]},\n",
    "    \"tools\": [\n",
    "        {\"code_execution\": {}},\n",
    "        {\"function_declarations\": [execute_query_tool_def.to_json_dict()]},\n",
    "    ],\n",
    "}\n",
    "\n",
    "# async with live_client.aio.live.connect(model=model, config=config) as session:\n",
    "# \n",
    "#   message = \"Please generate and insert 5 new rows in the books_metadata table. Execute inserts in a loop.\"\n",
    "#   print(f\"> {message}\\n\")\n",
    "# \n",
    "#   await session.send(input=message, end_of_turn=True)\n",
    "#   await handle_response(session, tool_impl=execute_query)"
   ]
  },
  {
   "cell_type": "markdown",
   "id": "1b51332e",
   "metadata": {},
   "source": [
    "Human test of the insert"
   ]
  },
  {
   "cell_type": "code",
   "execution_count": 22,
   "id": "663f505f",
   "metadata": {},
   "outputs": [
    {
     "name": "stdout",
     "output_type": "stream",
     "text": [
      " - DB CALL: execute_query(SELECT * FROM bookcase ORDER BY book_id DESC;)\n"
     ]
    },
    {
     "data": {
      "text/plain": [
       "[(7,\n",
       "  'Walizka pełna marzeń',\n",
       "  2022,\n",
       "  'Bardijewska Liliana',\n",
       "  'polish',\n",
       "  112,\n",
       "  'red',\n",
       "  150,\n",
       "  1,\n",
       "  1),\n",
       " (6,\n",
       "  'Tuż przed gwiazdką',\n",
       "  2019,\n",
       "  'Barbara Supeł, Marta Koshulinska',\n",
       "  'polish',\n",
       "  48,\n",
       "  'red',\n",
       "  250,\n",
       "  1,\n",
       "  1),\n",
       " (5,\n",
       "  'Ganz schön Schweiz. Ein cartoon survival guide.',\n",
       "  2017,\n",
       "  'Sergio J. Lievano, Wolfgang Koydl',\n",
       "  'german',\n",
       "  160,\n",
       "  'red',\n",
       "  250,\n",
       "  1,\n",
       "  1),\n",
       " (4,\n",
       "  'Wiewiórki, które nie chciały się dzielić',\n",
       "  2020,\n",
       "  'Rachel Bright, Jim Field',\n",
       "  'polish',\n",
       "  32,\n",
       "  'brown',\n",
       "  330,\n",
       "  1,\n",
       "  1),\n",
       " (3,\n",
       "  'The Wonky Donkey',\n",
       "  2018,\n",
       "  'Craig Smith',\n",
       "  'english',\n",
       "  24,\n",
       "  'blue',\n",
       "  250,\n",
       "  3,\n",
       "  3),\n",
       " (2,\n",
       "  'Wiersyzki domowe',\n",
       "  2016,\n",
       "  'Michał Rusinek',\n",
       "  'polish',\n",
       "  184,\n",
       "  'red',\n",
       "  213,\n",
       "  3,\n",
       "  1),\n",
       " (1,\n",
       "  'Brzechwa dzieciom. Dzieła wszystkie: Bajki',\n",
       "  2018,\n",
       "  'Jan Brzechwa',\n",
       "  'polish',\n",
       "  352,\n",
       "  'yellow',\n",
       "  250,\n",
       "  2,\n",
       "  1)]"
      ]
     },
     "execution_count": 22,
     "metadata": {},
     "output_type": "execute_result"
    }
   ],
   "source": [
    "execute_query(\"SELECT * FROM bookcase ORDER BY book_id DESC;\")\n",
    "# %sql SELECT * FROM books_metadata; this do now work - perhaps because second connection problem"
   ]
  },
  {
   "cell_type": "markdown",
   "id": "a182d005",
   "metadata": {
    "papermill": {
     "duration": 0.020415,
     "end_time": "2025-04-04T21:44:45.631433",
     "exception": false,
     "start_time": "2025-04-04T21:44:45.611018",
     "status": "completed"
    },
    "tags": []
   },
   "source": [
    "In the output from the previous step, you should see a `Code` section that shows code that the model generated in order to complete the task. It will look something like this:\n",
    "\n",
    "```py\n",
    "sql_statements = [ ... ]\n",
    "\n",
    "for sql in sql_statements:\n",
    "  print(default_api.execute_query(sql))\n",
    "```\n",
    "\n",
    "The model then runs this code (remotely), calling out to the provided tool when it reaches that part of the code. The `default_api` module contains the tools that you provided.\n",
    "\n",
    "This example simply executes in a loop, but the models are capable of more complex interactions with multiple tools, giving you a powerful agent framework that's effectively built in to the Gemini API."
   ]
  },
  {
   "cell_type": "markdown",
   "id": "05a998f6",
   "metadata": {
    "papermill": {
     "duration": 0.019965,
     "end_time": "2025-04-04T21:44:45.672744",
     "exception": false,
     "start_time": "2025-04-04T21:44:45.652779",
     "status": "completed"
    },
    "tags": []
   },
   "source": [
    "### Plotting the database\n",
    "\n",
    "Try out the built-in agent capability with the next example. You may notice the model try to guess the database schema or environment. Often the model will make mistakes, but you can look through the `Text` output and watch as the model inspects the error, tries a new approach and learns from its mistakes.\n",
    "\n",
    "If the model doesn't return a plot, try running the cell again."
   ]
  },
  {
   "cell_type": "code",
   "execution_count": 23,
   "id": "def6382d",
   "metadata": {
    "execution": {
     "iopub.execute_input": "2025-04-04T21:44:45.713362Z",
     "iopub.status.busy": "2025-04-04T21:44:45.712961Z",
     "iopub.status.idle": "2025-04-04T21:44:54.499830Z",
     "shell.execute_reply": "2025-04-04T21:44:54.498478Z"
    },
    "papermill": {
     "duration": 8.808204,
     "end_time": "2025-04-04T21:44:54.502172",
     "exception": false,
     "start_time": "2025-04-04T21:44:45.693968",
     "status": "completed"
    },
    "tags": []
   },
   "outputs": [
    {
     "name": "stdout",
     "output_type": "stream",
     "text": [
      "> Can you figure out the number of books in each column of the bookcase?\n",
      "\n"
     ]
    },
    {
     "name": "stderr",
     "output_type": "stream",
     "text": [
      "C:\\Users\\admin\\AppData\\Local\\Temp\\ipykernel_10232\\2605676277.py:1: ExperimentalWarning: The live API is experimental and may change in future versions.\n",
      "  async with live_client.aio.live.connect(model=model, config=config) as session:\n"
     ]
    },
    {
     "data": {
      "text/markdown": [
       "### Text"
      ],
      "text/plain": [
       "<IPython.core.display.Markdown object>"
      ]
     },
     "metadata": {},
     "output_type": "display_data"
    },
    {
     "name": "stdout",
     "output_type": "stream",
     "text": [
      "I need to understand the database schema first to figure out the tables and columns involved in storing bookcase and book information. I'll use a query to get a list of all tables in the database.\n"
     ]
    },
    {
     "data": {
      "text/markdown": [
       "### Code\n",
       "```\n",
       "sql = \"SELECT name FROM sqlite_master WHERE type='table';\"\n",
       "print(sql)\n",
       "\n",
       "```"
      ],
      "text/plain": [
       "<IPython.core.display.Markdown object>"
      ]
     },
     "metadata": {},
     "output_type": "display_data"
    },
    {
     "data": {
      "text/markdown": [
       "### Result: OUTCOME_OK\n",
       "```\n",
       "\"SELECT name FROM sqlite_master WHERE type='table';\\n\"\n",
       "```"
      ],
      "text/plain": [
       "<IPython.core.display.Markdown object>"
      ]
     },
     "metadata": {},
     "output_type": "display_data"
    },
    {
     "data": {
      "text/markdown": [
       "### Code\n",
       "```\n",
       "sql = \"SELECT name FROM sqlite_master WHERE type='table';\"\n",
       "result = default_api.execute_query(sql=sql)\n",
       "print(result)\n",
       "\n",
       "```"
      ],
      "text/plain": [
       "<IPython.core.display.Markdown object>"
      ]
     },
     "metadata": {},
     "output_type": "display_data"
    },
    {
     "data": {
      "text/markdown": [
       "### Tool call"
      ],
      "text/plain": [
       "<IPython.core.display.Markdown object>"
      ]
     },
     "metadata": {},
     "output_type": "display_data"
    },
    {
     "name": "stdout",
     "output_type": "stream",
     "text": [
      " - DB CALL: execute_query(SELECT name FROM sqlite_master WHERE type='table';)\n"
     ]
    },
    {
     "data": {
      "text/markdown": [
       "### Result: OUTCOME_OK\n",
       "```\n",
       "\"{'result': [['bookcase'], ['sqlite_sequence']]}\\n\"\n",
       "```"
      ],
      "text/plain": [
       "<IPython.core.display.Markdown object>"
      ]
     },
     "metadata": {},
     "output_type": "display_data"
    },
    {
     "data": {
      "text/markdown": [
       "### Text"
      ],
      "text/plain": [
       "<IPython.core.display.Markdown object>"
      ]
     },
     "metadata": {},
     "output_type": "display_data"
    },
    {
     "name": "stdout",
     "output_type": "stream",
     "text": [
      "Okay, I see there is a table named `bookcase`. Now I need to understand its schema to find out which columns store the number of books.\n"
     ]
    },
    {
     "data": {
      "text/markdown": [
       "### Code\n",
       "```\n",
       "sql = \"PRAGMA table_info(bookcase);\"\n",
       "print(sql)\n",
       "\n",
       "```"
      ],
      "text/plain": [
       "<IPython.core.display.Markdown object>"
      ]
     },
     "metadata": {},
     "output_type": "display_data"
    },
    {
     "data": {
      "text/markdown": [
       "### Result: OUTCOME_OK\n",
       "```\n",
       "'PRAGMA table_info(bookcase);\\n'\n",
       "```"
      ],
      "text/plain": [
       "<IPython.core.display.Markdown object>"
      ]
     },
     "metadata": {},
     "output_type": "display_data"
    },
    {
     "data": {
      "text/markdown": [
       "### Code\n",
       "```\n",
       "sql = \"PRAGMA table_info(bookcase);\"\n",
       "result = default_api.execute_query(sql=sql)\n",
       "print(result)\n",
       "\n",
       "```"
      ],
      "text/plain": [
       "<IPython.core.display.Markdown object>"
      ]
     },
     "metadata": {},
     "output_type": "display_data"
    },
    {
     "data": {
      "text/markdown": [
       "### Tool call"
      ],
      "text/plain": [
       "<IPython.core.display.Markdown object>"
      ]
     },
     "metadata": {},
     "output_type": "display_data"
    },
    {
     "name": "stdout",
     "output_type": "stream",
     "text": [
      " - DB CALL: execute_query(PRAGMA table_info(bookcase);)\n"
     ]
    },
    {
     "data": {
      "text/markdown": [
       "### Result: OUTCOME_OK\n",
       "```\n",
       "(\"{'result': [[0, 'book_id', 'INTEGER', 0, None, 1], [1, 'title', \"\n",
       " \"'VARCHAR(255)', 0, None, 0], [2, 'year', 'INTEGER', 0, None, 0], [3, \"\n",
       " \"'author', 'VARCHAR(255)', 0, None, 0], [4, 'language', 'VARCHAR(255)', 0, \"\n",
       " \"None, 0], [5, 'number_of_pages', 'INTEGER', 0, None, 0], [6, \"\n",
       " \"'envelope_color', 'VARCHAR(255)', 0, None, 0], [7, 'envelope_height_mm', \"\n",
       " \"'INTEGER', 0, None, 0], [8, 'shelf_x', 'INTEGER', 0, None, 0], [9, \"\n",
       " \"'shelf_y', 'INTEGER', 0, None, 0]]}\\n\")\n",
       "```"
      ],
      "text/plain": [
       "<IPython.core.display.Markdown object>"
      ]
     },
     "metadata": {},
     "output_type": "display_data"
    },
    {
     "name": "stdout",
     "output_type": "stream",
     "text": [
      "\n",
      "> Generate and run some code to plot this as a python seaborn chart\n",
      "\n"
     ]
    },
    {
     "data": {
      "text/markdown": [
       "### Text"
      ],
      "text/plain": [
       "<IPython.core.display.Markdown object>"
      ]
     },
     "metadata": {},
     "output_type": "display_data"
    },
    {
     "name": "stdout",
     "output_type": "stream",
     "text": [
      "It seems I misinterpreted the user's request. The `bookcase` table describes individual books, not a summary of books per bookcase column. I need to rephrase the question and find a suitable table that stores column-wise data for the bookcase. Since the current table doesn't seem to directly address the request of counting books in each bookcase column, I need to explore other potential tables or derive this information by grouping and counting books based on their shelf positions.\n",
      "\n",
      "Given that I only have one table named `bookcase`, I will assume that the 'shelf_x' column represents the bookcase column. I will formulate a query to count the number of books in each 'shelf_x' (column). Then, I'll provide a brief explanation on how to generate the seaborn chart using Python. Since I can't execute Python code to directly plot the chart, I will generate the appropriate `sql` query to fetch the required information.\n",
      "\n"
     ]
    },
    {
     "data": {
      "text/markdown": [
       "### Code\n",
       "```\n",
       "sql = \"SELECT shelf_x, COUNT(*) AS number_of_books FROM bookcase GROUP BY shelf_x;\"\n",
       "print(sql)\n",
       "\n",
       "```"
      ],
      "text/plain": [
       "<IPython.core.display.Markdown object>"
      ]
     },
     "metadata": {},
     "output_type": "display_data"
    },
    {
     "data": {
      "text/markdown": [
       "### Result: OUTCOME_OK\n",
       "```\n",
       "'SELECT shelf_x, COUNT(*) AS number_of_books FROM bookcase GROUP BY shelf_x;\\n'\n",
       "```"
      ],
      "text/plain": [
       "<IPython.core.display.Markdown object>"
      ]
     },
     "metadata": {},
     "output_type": "display_data"
    },
    {
     "data": {
      "text/markdown": [
       "### Code\n",
       "```\n",
       "sql = \"SELECT shelf_x, COUNT(*) AS number_of_books FROM bookcase GROUP BY shelf_x;\"\n",
       "result = default_api.execute_query(sql=sql)\n",
       "print(result)\n",
       "\n",
       "\n",
       "```"
      ],
      "text/plain": [
       "<IPython.core.display.Markdown object>"
      ]
     },
     "metadata": {},
     "output_type": "display_data"
    },
    {
     "data": {
      "text/markdown": [
       "### Tool call"
      ],
      "text/plain": [
       "<IPython.core.display.Markdown object>"
      ]
     },
     "metadata": {},
     "output_type": "display_data"
    },
    {
     "name": "stdout",
     "output_type": "stream",
     "text": [
      " - DB CALL: execute_query(SELECT shelf_x, COUNT(*) AS number_of_books FROM bookcase GROUP BY shelf_x;)\n"
     ]
    },
    {
     "data": {
      "text/markdown": [
       "### Result: OUTCOME_OK\n",
       "```\n",
       "\"{'result': [[1, 4], [2, 1], [3, 2]]}\\n\"\n",
       "```"
      ],
      "text/plain": [
       "<IPython.core.display.Markdown object>"
      ]
     },
     "metadata": {},
     "output_type": "display_data"
    },
    {
     "data": {
      "text/markdown": [
       "### Text"
      ],
      "text/plain": [
       "<IPython.core.display.Markdown object>"
      ]
     },
     "metadata": {},
     "output_type": "display_data"
    },
    {
     "name": "stdout",
     "output_type": "stream",
     "text": [
      "The query results show the number of books in each column (shelf_x).\n",
      "\n",
      "Shelf_x | Number of Books\n",
      "------- | --------\n",
      "1       | 4\n",
      "2       | 1\n",
      "3       | 2\n",
      "\n",
      "You can use this data to create a bar chart using Python and the Seaborn library. Here's how you would do it:\n",
      "\n",
      "```python\n",
      "import pandas as pd\n",
      "import seaborn as sns\n",
      "import matplotlib.pyplot as plt\n",
      "\n",
      "data = {'shelf_x': [1, 2, 3], 'number_of_books': [4, 1, 2]}\n",
      "df = pd.DataFrame(data)\n",
      "\n",
      "sns.barplot(x='shelf_x', y='number_of_books', data=df)\n",
      "plt.xlabel('Bookcase Column (shelf_x)')\n",
      "plt.ylabel('Number of Books')\n",
      "plt.title('Number of Books per Bookcase Column')\n",
      "plt.show()\n",
      "```\n",
      "\n",
      "This code snippet creates a Pandas DataFrame from the query results, then uses Seaborn to generate a bar plot showing the number of books in each bookcase column.  The `plt.show()` command displays the chart.\n",
      "\n"
     ]
    }
   ],
   "source": [
    "async with live_client.aio.live.connect(model=model, config=config) as session:\n",
    "\n",
    "  message = \"Can you figure out the number of books in each column of the bookcase?\"\n",
    "\n",
    "  print(f\"> {message}\\n\")\n",
    "  await session.send(input=message, end_of_turn=True)\n",
    "  await handle_response(session, tool_impl=execute_query)\n",
    "\n",
    "  message = \"Generate and run some code to plot this as a python seaborn chart\"\n",
    "\n",
    "  print(f\"> {message}\\n\")\n",
    "  await session.send(input=message, end_of_turn=True)\n",
    "  await handle_response(session, tool_impl=execute_query)"
   ]
  },
  {
   "cell_type": "markdown",
   "id": "12708c11",
   "metadata": {
    "id": "8a17aeb2a3ef",
    "papermill": {
     "duration": 0.014448,
     "end_time": "2025-04-04T21:44:54.531903",
     "exception": false,
     "start_time": "2025-04-04T21:44:54.517455",
     "status": "completed"
    },
    "tags": []
   },
   "source": [
    "## Further reading\n",
    "\n",
    "To learn more about what the Gemini API can do with function calling, check out the [Function calling cookbook](https://github.com/google-gemini/cookbook/blob/main/quickstarts/Function_calling.ipynb) (see `Manual function calling` to understand how function calling works manually) as well as [Function calling config](https://github.com/google-gemini/cookbook/blob/main/quickstarts/Function_calling_config.ipynb), which gives you fine-grained control over how function calling is triggered.\n",
    "\n",
    "And stay tuned for day 4, where you will explore using function calling with grounding tools.\n",
    "\n",
    "*- [Mark McD](https://linktr.ee/markmcd)*"
   ]
  },
  {
   "cell_type": "markdown",
   "id": "c48816a4",
   "metadata": {},
   "source": [
    "# Naive RAG for books descriptions"
   ]
  },
  {
   "cell_type": "markdown",
   "id": "2491d087",
   "metadata": {},
   "source": [
    "First install Chroma"
   ]
  },
  {
   "cell_type": "code",
   "execution_count": 24,
   "id": "4218f535",
   "metadata": {},
   "outputs": [],
   "source": [
    "!pip install -qU \"chromadb==0.6.3\""
   ]
  },
  {
   "cell_type": "markdown",
   "id": "16420514",
   "metadata": {},
   "source": [
    "### Explore available models\n",
    "\n",
    "You will be using the [`embedContent`](https://ai.google.dev/api/embeddings#method:-models.embedcontent) API method to calculate embeddings in this guide. Find a model that supports it through the [`models.list`](https://ai.google.dev/api/models#method:-models.list) endpoint. You can also find more information about the embedding models on [the models page](https://ai.google.dev/gemini-api/docs/models/gemini#text-embedding).\n",
    "\n",
    "`text-embedding-004` is the most recent generally-available embedding model, so you will use it for this exercise, but try out the experimental `gemini-embedding-exp-03-07` model too."
   ]
  },
  {
   "cell_type": "code",
   "execution_count": 25,
   "id": "bd2105b5",
   "metadata": {},
   "outputs": [
    {
     "name": "stdout",
     "output_type": "stream",
     "text": [
      "models/embedding-001\n",
      "models/text-embedding-004\n",
      "models/gemini-embedding-exp-03-07\n",
      "models/gemini-embedding-exp\n"
     ]
    }
   ],
   "source": [
    "client = genai.Client(api_key=GOOGLE_API_KEY)\n",
    "from pprint import pprint\n",
    "\n",
    "for m in client.models.list():\n",
    "    if \"embedContent\" in m.supported_actions:\n",
    "        print(m.name)\n",
    "        #pprint(dict(m))"
   ]
  },
  {
   "cell_type": "markdown",
   "id": "15563b92",
   "metadata": {},
   "source": [
    "### Data\n",
    "\n",
    "Here are die books descriptions."
   ]
  },
  {
   "cell_type": "code",
   "execution_count": 26,
   "id": "bb3872f9",
   "metadata": {},
   "outputs": [
    {
     "name": "stdout",
     "output_type": "stream",
     "text": [
      " * sqlite:///sample.db\n",
      "Done.\n"
     ]
    },
    {
     "data": {
      "text/html": [
       "<table>\n",
       "    <thead>\n",
       "        <tr>\n",
       "            <th>book_id</th>\n",
       "            <th>title</th>\n",
       "            <th>year</th>\n",
       "            <th>author</th>\n",
       "            <th>language</th>\n",
       "            <th>number_of_pages</th>\n",
       "            <th>envelope_color</th>\n",
       "            <th>envelope_height_mm</th>\n",
       "            <th>shelf_x</th>\n",
       "            <th>shelf_y</th>\n",
       "        </tr>\n",
       "    </thead>\n",
       "    <tbody>\n",
       "        <tr>\n",
       "            <td>1</td>\n",
       "            <td>Brzechwa dzieciom. Dzieła wszystkie: Bajki</td>\n",
       "            <td>2018</td>\n",
       "            <td>Jan Brzechwa</td>\n",
       "            <td>polish</td>\n",
       "            <td>352</td>\n",
       "            <td>yellow</td>\n",
       "            <td>250</td>\n",
       "            <td>2</td>\n",
       "            <td>1</td>\n",
       "        </tr>\n",
       "        <tr>\n",
       "            <td>2</td>\n",
       "            <td>Wiersyzki domowe</td>\n",
       "            <td>2016</td>\n",
       "            <td>Michał Rusinek</td>\n",
       "            <td>polish</td>\n",
       "            <td>184</td>\n",
       "            <td>red</td>\n",
       "            <td>213</td>\n",
       "            <td>3</td>\n",
       "            <td>1</td>\n",
       "        </tr>\n",
       "        <tr>\n",
       "            <td>3</td>\n",
       "            <td>The Wonky Donkey</td>\n",
       "            <td>2018</td>\n",
       "            <td>Craig Smith</td>\n",
       "            <td>english</td>\n",
       "            <td>24</td>\n",
       "            <td>blue</td>\n",
       "            <td>250</td>\n",
       "            <td>3</td>\n",
       "            <td>3</td>\n",
       "        </tr>\n",
       "        <tr>\n",
       "            <td>4</td>\n",
       "            <td>Wiewiórki, które nie chciały się dzielić</td>\n",
       "            <td>2020</td>\n",
       "            <td>Rachel Bright, Jim Field</td>\n",
       "            <td>polish</td>\n",
       "            <td>32</td>\n",
       "            <td>brown</td>\n",
       "            <td>330</td>\n",
       "            <td>1</td>\n",
       "            <td>1</td>\n",
       "        </tr>\n",
       "        <tr>\n",
       "            <td>5</td>\n",
       "            <td>Ganz schön Schweiz. Ein cartoon survival guide.</td>\n",
       "            <td>2017</td>\n",
       "            <td>Sergio J. Lievano, Wolfgang Koydl</td>\n",
       "            <td>german</td>\n",
       "            <td>160</td>\n",
       "            <td>red</td>\n",
       "            <td>250</td>\n",
       "            <td>1</td>\n",
       "            <td>1</td>\n",
       "        </tr>\n",
       "        <tr>\n",
       "            <td>6</td>\n",
       "            <td>Tuż przed gwiazdką</td>\n",
       "            <td>2019</td>\n",
       "            <td>Barbara Supeł, Marta Koshulinska</td>\n",
       "            <td>polish</td>\n",
       "            <td>48</td>\n",
       "            <td>red</td>\n",
       "            <td>250</td>\n",
       "            <td>1</td>\n",
       "            <td>1</td>\n",
       "        </tr>\n",
       "        <tr>\n",
       "            <td>7</td>\n",
       "            <td>Walizka pełna marzeń</td>\n",
       "            <td>2022</td>\n",
       "            <td>Bardijewska Liliana</td>\n",
       "            <td>polish</td>\n",
       "            <td>112</td>\n",
       "            <td>red</td>\n",
       "            <td>150</td>\n",
       "            <td>1</td>\n",
       "            <td>1</td>\n",
       "        </tr>\n",
       "    </tbody>\n",
       "</table>"
      ],
      "text/plain": [
       "[(1, 'Brzechwa dzieciom. Dzieła wszystkie: Bajki', 2018, 'Jan Brzechwa', 'polish', 352, 'yellow', 250, 2, 1),\n",
       " (2, 'Wiersyzki domowe', 2016, 'Michał Rusinek', 'polish', 184, 'red', 213, 3, 1),\n",
       " (3, 'The Wonky Donkey', 2018, 'Craig Smith', 'english', 24, 'blue', 250, 3, 3),\n",
       " (4, 'Wiewiórki, które nie chciały się dzielić', 2020, 'Rachel Bright, Jim Field', 'polish', 32, 'brown', 330, 1, 1),\n",
       " (5, 'Ganz schön Schweiz. Ein cartoon survival guide.', 2017, 'Sergio J. Lievano, Wolfgang Koydl', 'german', 160, 'red', 250, 1, 1),\n",
       " (6, 'Tuż przed gwiazdką', 2019, 'Barbara Supeł, Marta Koshulinska', 'polish', 48, 'red', 250, 1, 1),\n",
       " (7, 'Walizka pełna marzeń', 2022, 'Bardijewska Liliana', 'polish', 112, 'red', 150, 1, 1)]"
      ]
     },
     "execution_count": 26,
     "metadata": {},
     "output_type": "execute_result"
    }
   ],
   "source": [
    "%sql SELECT * FROM bookcase;"
   ]
  },
  {
   "cell_type": "code",
   "execution_count": 27,
   "id": "ae7969f3",
   "metadata": {},
   "outputs": [],
   "source": [
    "DOCUMENT1 = r\"\"\"Wyjątkowa edycja wszystkich bajek dla dzieci Jana Brzechwy. Wspaniałe ilustracje Joli Richter-Magnuszewskiej, twarda oprawa, duży format – tego wydania nie może zabraknąć na półce z książkami! „Brzechwa dzieciom. Dzieła wszystkie. Bajki” – to tom otwierający niepowtarzalny cykl, w którym zebraliśmy wszystko, co wyszło spod pióra najpopularniejszego polskiego twórcy dla dzieci. Znajdą się w nim zarówno dobrze znane i dostępne utwory, jak i te trochę zapomniane, od lat niewznawiane, ale na pewno warte przypomnienia. Ten jedyny w swoim rodzaju hołd dla twórczości Jana Brzechwy obejmuje cztery tomy: „Bajki”, „Wiersze”, cykl o panu Kleksie oraz utwory sceniczne.\"\"\"\n",
    "DOCUMENT2 = r\"\"\"Książka wpisana na Listę Skarbów Muzeum Książki Dziecięcej. Domowa wierszykownia według Rusinka. Próg ciągle podkłada ci nogę? Wyprowadzasz klucz na smyczy? Lubisz śpiewać do prysznica? Oglądasz kręcące się w pralce pranie? Nasze domowe przedmioty prowadzą w ukryciu podwójne życie. Sprawdź, co robią, kiedy na nie nie patrzysz. Błyskotliwie ilustrowana przez Joannę Rusinek książka to świetny pomysł na prezent, w którym każdy znajdzie coś dla siebie - dzieci zabawne wierszyki, a dorośli - dopiski z przymrużeniem oka.\"\"\"\n",
    "DOCUMENT3 = r\"\"\"The book behind the viral internet sensation of \"The Scottish Granny\" reading this story to her grandchild, viewed over 3 milliontimes. Based on the popular song, THE WONKY DONKEY has sold over one millioncopies worldwide.\"\"\"\n",
    "DOCUMENT4 = r\"\"\"Ostatnią rzeczą, o której myśli beztroska wiewiórka o imieniu Cyryl, są zapasy na zimę. Jest przecież tyle ciekawszych rzeczy do zrobienia! Jednak kiedy głód zagląda mu w oczy i okazuje się, że przegapił porę zbiorów, Cyryl wie, że ma ostatnią szansę, by znaleźć coś do jedzenia. Nagle na drzewie zauważa ostatnią w tym sezonie szyszkę! Ale nie tylko on czai się na smakołyk Czy Cyryl go zdobędzie, zanim dopadnie ją najbardziej skrzętna wiewiórka w lesie? Przezabawna historia o tym, że prawdziwe szczęście można odnaleźć, tylko dzieląc je z innymi. Picturebook znakomitego duetu: Rachel Bright i Jim Field! Wyjątkowy tytuł, w którym główną rolę odgrywają ilustracje. Książka wspaniale wspiera rozwój dziecka, i to na wielu płaszczyznach. Ćwiczy koncentrację, spostrzegawczość oraz pobudza wyobraźnię i kreatywne myślenie. Piękne, kolorowe i całostronicowe rysunki są doskonałą okazją do rozmów i dyskusji z dzieckiem na różne, czasem poważne tematy.\"\"\"\n",
    "DOCUMENT5 = r\"\"\"Die Schweiz ist ein Rätsel im Herzen Europas. Aber nun haben sich zwei Bestseller-Autoren zusammengeschlossen, um ihre Geheimnisse zu lüften: der Cartoonist Sergio J. Lievano (Hoi - your Swiss german survival guide) und der Journalist Wolfgang Koydl (Die Besserkönner) beleuchten Käse und Politik, die Alpenfauna und die Luftwaffe, sowie bekannte Schweizer von Albert Einstein bis Roger Federer. Nie hat es so viel Spass gemacht, dieses merkwürdige Land kennenzulernen.\"\"\"\n",
    "DOCUMENT6 = r\"\"\"Jak wyglądają przygotowania do świat w wiosce Świętego Mikołaja? Radosna praca wręcz wre! Elfy i aniołki robią wszystko, by dzieci otrzymały wymarzone prezenty na czas. Renifery trenują wzbijanie się do lotu, morsy ćwiczą taneczny układ, a misie polarne przygotowują scenografię do świątecznego przedstawienia. Odchodzi wielkie pakowanie, sprzątanie i naszywanie łatek na chmurki – przecież pogoda w noc świąteczną musi być idealna! Ciepła, rodzinna książka dla najmłodszych, która każdego przeniesie do magicznej świątecznej krainy. Wspólnie dowiedzcie się jak praca ekipy Świętego Mikołaja wygląda od środka.\"\"\"\n",
    "DOCUMENT7 = r\"\"\"Dziewięcioletnia Zuzia marzy o podróży samolotem. Kupuje wspaniałą walizkę, pakuje się, jedzie na lotnisko i… tu wszystko się komplikuje. „Walizka pełna marzeń” to książka łącząca elementy obyczajowe i fantastyczne. Akcja dzieje się dwutorowo: poznajemy przygody Zuzy oraz losy walizeczki i umieszczonych w niej przedmiotów. Obecne są w niej elementy współczesnego świata dzieci: robienie wszystkiemu zdjęć telefonem, wrzucanie selfie do internetu, komentowanie ich, zbieranie lajków itd. Autorka zręcznie wprowadza ciekawostki na temat pracy lotniska, zagubionego bagażu, a także z niezwykłą delikatnością i wyczuciem porusza kwestie społeczne ważne z punktu widzenia dzieci: relacje z rodzeństwem, nawiązywanie przyjaźni, stosunek do osób starszych. A jeśli dodamy do tego wartkie dialogi, poetycki język, żarty i ciekawostki, doskonale ożywione przedmioty oraz znakomicie przedstawione dziecięce zachowania i uczucia mamy wręcz idealną książkę!\"\"\"\n",
    "\n",
    "documents = [DOCUMENT1, DOCUMENT2, DOCUMENT3, DOCUMENT4, DOCUMENT5, DOCUMENT6, DOCUMENT7]"
   ]
  },
  {
   "cell_type": "markdown",
   "id": "05720f88",
   "metadata": {},
   "source": [
    "## Creating the embedding database with ChromaDB\n",
    "\n",
    "Create a [custom function](https://docs.trychroma.com/guides/embeddings#custom-embedding-functions) to generate embeddings with the Gemini API. In this task, you are implementing a retrieval system, so the `task_type` for generating the *document* embeddings is `retrieval_document`. Later, you will use `retrieval_query` for the *query* embeddings. Check out the [API reference](https://ai.google.dev/api/embeddings#v1beta.TaskType) for the full list of supported tasks.\n",
    "\n",
    "Key words: Documents are the items that are in the database. They are inserted first, and later retrieved. Queries are the textual search terms and can be simple keywords or textual descriptions of the desired documents."
   ]
  },
  {
   "cell_type": "code",
   "execution_count": 28,
   "id": "d855aff2",
   "metadata": {},
   "outputs": [],
   "source": [
    "from chromadb import Documents, EmbeddingFunction, Embeddings\n",
    "from google.api_core import retry\n",
    "\n",
    "from google.genai import types\n",
    "\n",
    "\n",
    "# Define a helper to retry when per-minute quota is reached.\n",
    "is_retriable = lambda e: (isinstance(e, genai.errors.APIError) and e.code in {429, 503})\n",
    "\n",
    "\n",
    "class GeminiEmbeddingFunction(EmbeddingFunction):\n",
    "    # Specify whether to generate embeddings for documents, or queries\n",
    "    document_mode = True\n",
    "\n",
    "    @retry.Retry(predicate=is_retriable)\n",
    "    def __call__(self, input: Documents) -> Embeddings:\n",
    "        if self.document_mode:\n",
    "            embedding_task = \"retrieval_document\"\n",
    "        else:\n",
    "            embedding_task = \"retrieval_query\"\n",
    "\n",
    "        response = client.models.embed_content(\n",
    "            model=\"models/text-embedding-004\",\n",
    "            contents=input,\n",
    "            config=types.EmbedContentConfig(\n",
    "                task_type=embedding_task,\n",
    "            ),\n",
    "        )\n",
    "        return [e.values for e in response.embeddings]"
   ]
  },
  {
   "cell_type": "markdown",
   "id": "2d8b4c2f",
   "metadata": {},
   "source": [
    "Now create a [Chroma database client](https://docs.trychroma.com/getting-started) that uses the `GeminiEmbeddingFunction` and populate the database with the documents you defined above."
   ]
  },
  {
   "cell_type": "code",
   "execution_count": 29,
   "id": "04948692",
   "metadata": {},
   "outputs": [],
   "source": [
    "import chromadb\n",
    "\n",
    "DB_NAME = \"books_descriptions\"\n",
    "\n",
    "embed_fn = GeminiEmbeddingFunction()\n",
    "embed_fn.document_mode = True\n",
    "\n",
    "chroma_client = chromadb.Client()\n",
    "vector_store = chroma_client.get_or_create_collection(name=DB_NAME, embedding_function=embed_fn)\n",
    "\n",
    "vector_store.add(documents=documents, ids=[str(i) for i in range(len(documents))])"
   ]
  },
  {
   "cell_type": "markdown",
   "id": "0e6c43ae",
   "metadata": {},
   "source": [
    "Confirm that the data was inserted by looking at the database."
   ]
  },
  {
   "cell_type": "code",
   "execution_count": 30,
   "id": "ac226f6a",
   "metadata": {},
   "outputs": [
    {
     "data": {
      "text/plain": [
       "{'ids': ['0'],\n",
       " 'embeddings': array([[-3.59447114e-02, -2.29199044e-02, -5.81635046e-04,\n",
       "         -3.60621288e-02, -4.69369639e-04,  1.61770843e-02,\n",
       "         -1.12588471e-02,  2.71259006e-02, -4.40716930e-03,\n",
       "          1.27238990e-03,  6.05992181e-03, -5.80335371e-02,\n",
       "          4.86868471e-02,  1.90588906e-02, -2.03582291e-02,\n",
       "         -7.22970515e-02,  3.65148708e-02,  6.33869767e-02,\n",
       "         -1.22065701e-01,  1.59364007e-02,  5.15878350e-02,\n",
       "          2.33162567e-02,  9.52399597e-02, -5.15043549e-02,\n",
       "         -2.24091187e-02, -5.96287213e-02,  2.43165400e-02,\n",
       "          2.28380822e-02,  3.41458693e-02, -7.85736367e-02,\n",
       "          2.76183598e-02,  3.87153104e-02,  5.69836644e-04,\n",
       "         -9.70540103e-03,  5.84084094e-02,  3.51892896e-02,\n",
       "         -4.98462655e-02,  1.61556061e-02,  5.69811873e-02,\n",
       "         -2.78894156e-02, -8.65953639e-02,  3.09037250e-02,\n",
       "          3.53737064e-02, -7.50977499e-03, -2.06203200e-02,\n",
       "         -4.74179387e-02,  3.33641618e-02,  1.35373911e-02,\n",
       "         -4.05001827e-02,  4.42313664e-02,  1.10999206e-02,\n",
       "          1.96839720e-02, -9.00491327e-02,  1.07927240e-01,\n",
       "         -1.82666108e-02,  3.46624814e-02, -5.64671047e-02,\n",
       "          6.70680311e-03,  1.27554256e-02,  1.01250010e-02,\n",
       "         -1.32835237e-02,  6.00636490e-02, -5.53575084e-02,\n",
       "          4.43937518e-02,  5.68540487e-03, -2.52489466e-02,\n",
       "         -3.57445478e-02,  2.30816416e-02,  3.45199518e-02,\n",
       "          1.72193162e-02, -8.04730412e-03,  3.63856070e-02,\n",
       "         -5.83568960e-02,  9.43845510e-03, -1.65642519e-02,\n",
       "         -1.54590802e-02,  2.06101760e-02, -6.43699709e-03,\n",
       "         -3.36272493e-02,  1.39635215e-02,  1.20267663e-02,\n",
       "         -1.04179990e-03,  7.56521076e-02,  4.62539345e-02,\n",
       "          5.96457273e-02,  1.57309975e-02,  1.90706272e-02,\n",
       "         -5.42017929e-02, -2.45678294e-02, -2.68366132e-02,\n",
       "          4.50608768e-02,  6.01836257e-02, -1.11496905e-02,\n",
       "         -3.64007466e-02,  8.57102051e-02,  1.41711961e-02,\n",
       "         -7.43627250e-02, -1.05150707e-01,  6.16023503e-02,\n",
       "          1.87401548e-02,  8.80244374e-03,  2.67450791e-02,\n",
       "         -1.40745239e-02, -6.47816136e-02,  2.45750695e-02,\n",
       "          6.16663024e-02,  1.47543866e-02,  1.04949577e-02,\n",
       "          1.26614247e-03,  9.76584014e-03, -1.41908396e-02,\n",
       "         -1.76535100e-02,  1.69153158e-02, -4.68285084e-02,\n",
       "          3.90235968e-02, -8.29084869e-03, -2.84737293e-02,\n",
       "          4.66529233e-03, -3.24282758e-02, -1.15200924e-02,\n",
       "         -2.23120973e-02, -3.33679803e-02, -3.03914323e-02,\n",
       "          1.08294794e-02, -2.71006953e-02,  2.12218221e-02,\n",
       "         -5.27095646e-02, -5.39714806e-02, -3.36464271e-02,\n",
       "         -4.03786898e-02,  5.76688349e-03, -5.64734191e-02,\n",
       "         -5.70090348e-03,  7.04000518e-02, -4.64678556e-02,\n",
       "         -7.81087354e-02,  3.05034425e-02, -1.77376587e-02,\n",
       "          1.85901411e-02,  3.25663649e-02,  9.58528928e-03,\n",
       "         -5.74057642e-03, -5.71586341e-02,  7.18868861e-04,\n",
       "         -2.61965040e-02,  2.35149618e-02, -1.49985347e-02,\n",
       "          7.78255090e-02, -2.11246274e-02,  4.55672890e-02,\n",
       "         -2.64659170e-02,  1.92764327e-02,  5.47710573e-03,\n",
       "         -5.84026091e-02, -1.01835169e-02, -1.24009857e-02,\n",
       "         -1.68178491e-02,  3.52365896e-02,  4.66051213e-02,\n",
       "          2.70001460e-02,  6.43554255e-02, -3.51472497e-02,\n",
       "         -2.02633850e-02,  3.70848663e-02, -2.56425571e-02,\n",
       "         -3.28365825e-02,  8.54262616e-03, -2.28340831e-02,\n",
       "         -2.17032786e-02, -2.59809406e-03, -5.14343604e-02,\n",
       "         -4.06997241e-02, -4.71264943e-02, -8.03157836e-02,\n",
       "          2.79140342e-02, -3.29767205e-02, -5.69021739e-02,\n",
       "          1.33861285e-02,  3.88056971e-02,  3.10739093e-02,\n",
       "          6.28389269e-02,  2.84796469e-02, -4.80920672e-02,\n",
       "         -2.14991085e-02,  4.17574681e-02,  5.76275913e-03,\n",
       "         -3.58015392e-03,  5.85072264e-02,  9.11053941e-02,\n",
       "          3.54877152e-02, -6.31782338e-02, -1.49901584e-02,\n",
       "         -4.23382223e-03,  3.72677222e-02, -5.73731726e-03,\n",
       "         -2.44924426e-02,  1.02876723e-02, -2.67449417e-03,\n",
       "          1.42223174e-02, -2.23528426e-02,  5.20289354e-02,\n",
       "         -2.68685017e-02, -4.50524278e-02, -6.66941628e-02,\n",
       "         -4.27812450e-02,  5.36116175e-02, -2.94003412e-02,\n",
       "         -7.06574321e-02, -6.03441000e-02, -2.63122935e-02,\n",
       "          5.42521616e-03, -3.58649204e-03, -4.63209227e-02,\n",
       "          1.42406682e-02,  5.13917506e-02,  2.13936996e-03,\n",
       "          2.70732287e-02, -2.16480549e-02,  2.21779961e-02,\n",
       "         -2.71765124e-02, -5.24015492e-03,  3.67921367e-02,\n",
       "          5.39959259e-02, -2.47438569e-02, -3.36038880e-02,\n",
       "         -4.50723339e-03, -1.06645627e-02, -1.80371441e-02,\n",
       "         -2.92000361e-02, -4.32499647e-02, -2.83476990e-02,\n",
       "          2.52835657e-02,  2.23577302e-03,  5.81667572e-02,\n",
       "         -6.39410922e-03,  1.89209208e-02,  3.51105668e-02,\n",
       "         -4.67678085e-02, -7.12998095e-04,  1.69980340e-02,\n",
       "          2.98774708e-02, -2.19241041e-03,  1.52924526e-02,\n",
       "         -2.60495208e-02,  1.74090527e-02, -2.74574123e-02,\n",
       "          1.11267187e-01,  1.71834920e-02,  1.39474915e-02,\n",
       "         -2.01132596e-02, -2.82822512e-02, -3.66658568e-02,\n",
       "          8.74484554e-02, -2.69503705e-02, -5.10172807e-02,\n",
       "         -5.81840239e-02,  7.68058896e-02, -3.46668363e-02,\n",
       "         -6.34682998e-02, -7.81165808e-02,  1.79637503e-02,\n",
       "         -2.92715542e-02, -6.97340863e-03, -4.23569120e-02,\n",
       "         -5.18250763e-02, -1.38346618e-02, -1.89033914e-02,\n",
       "         -4.53245267e-03,  4.39529270e-02, -4.55285870e-02,\n",
       "          1.37422122e-02, -1.82169937e-02, -1.45868706e-02,\n",
       "          1.56734474e-02, -1.66270901e-02,  1.90025903e-02,\n",
       "          1.77779756e-02,  3.06898206e-02,  1.77034978e-02,\n",
       "         -7.45300129e-02,  3.80085856e-02,  1.70337185e-02,\n",
       "         -3.32676135e-02, -3.75280576e-03,  1.79170836e-02,\n",
       "         -7.50398785e-02,  4.34098728e-02,  4.71059745e-03,\n",
       "         -2.64183283e-02,  4.73018736e-02,  2.18503121e-02,\n",
       "          3.33084688e-02,  2.17990926e-03,  1.85995009e-02,\n",
       "         -1.20544676e-02,  2.23583020e-02, -1.59908812e-02,\n",
       "          1.42733362e-02,  2.45114733e-02, -3.66704911e-02,\n",
       "          1.21050049e-02, -1.45700396e-04,  1.97490659e-02,\n",
       "          1.91903207e-02,  2.21239608e-02, -7.57324463e-03,\n",
       "          3.74867357e-02, -1.23568410e-02,  9.92915034e-03,\n",
       "          7.29574114e-02,  9.90201533e-03,  1.95785202e-02,\n",
       "         -5.23418225e-02, -5.14138974e-02, -2.29546130e-02,\n",
       "         -2.91171546e-05, -1.74477145e-01, -4.53763492e-02,\n",
       "          3.76359113e-02,  2.35887021e-02,  6.47456199e-02,\n",
       "          3.67286578e-02, -2.91656684e-02, -2.23838035e-02,\n",
       "          1.46941990e-02, -5.31474575e-02, -1.82008352e-02,\n",
       "         -1.20345997e-02, -1.12828221e-02,  1.94501132e-02,\n",
       "          1.92876309e-02, -2.40622610e-02, -4.77253571e-02,\n",
       "         -3.15473713e-02,  2.00522952e-02,  6.12031743e-02,\n",
       "         -6.99808747e-02,  4.64874655e-02,  1.19635519e-02,\n",
       "          4.13921997e-02,  2.08949894e-02,  4.44918014e-02,\n",
       "          3.05569284e-02,  4.15987000e-02, -1.54778399e-02,\n",
       "         -6.95833936e-02,  2.21797563e-02,  1.73273287e-03,\n",
       "         -1.20938998e-02, -6.14371635e-02,  1.08622102e-04,\n",
       "          2.44268663e-02,  1.83044989e-02, -6.16535619e-02,\n",
       "         -3.52049619e-03, -2.54324228e-02,  1.81598570e-02,\n",
       "          1.61289033e-02, -1.28301941e-02, -5.16497269e-02,\n",
       "          3.48077551e-03, -9.82177909e-03, -5.89722358e-02,\n",
       "          3.01133338e-02, -4.03173920e-03, -4.68291044e-02,\n",
       "          3.49268205e-02,  2.07365230e-02, -3.20827849e-02,\n",
       "         -1.99906323e-02, -1.13487132e-02,  5.09151407e-02,\n",
       "          8.55319435e-04,  3.04312054e-02,  1.29047660e-02,\n",
       "         -1.41753461e-02, -5.55947721e-02, -4.14934242e-03,\n",
       "          3.36011723e-02, -2.94491649e-02, -6.15052320e-03,\n",
       "         -6.02245145e-03,  1.78871453e-02,  4.72169649e-03,\n",
       "         -1.96716953e-02,  3.91820632e-02, -6.12893999e-02,\n",
       "         -2.17492916e-02, -7.41298404e-03,  1.61465332e-02,\n",
       "         -4.00453284e-02,  5.68850748e-02,  1.82112586e-02,\n",
       "          2.16485709e-02, -3.23470458e-02,  4.77169342e-02,\n",
       "          3.46186161e-02,  4.29240987e-02,  4.77410480e-02,\n",
       "          1.84169672e-02, -3.97518696e-03, -4.10914049e-02,\n",
       "          7.57490396e-02,  1.79282557e-02,  2.13351659e-02,\n",
       "         -1.77743919e-02,  1.50412647e-02, -9.06801259e-04,\n",
       "         -1.03749214e-02, -1.78966355e-02, -4.63986285e-02,\n",
       "         -1.14463372e-02, -3.14482823e-02, -1.57000665e-02,\n",
       "         -2.54472960e-02, -4.90099005e-03, -2.56760307e-02,\n",
       "         -2.24787537e-02, -4.18848395e-02, -1.20661855e-02,\n",
       "          8.09671264e-03,  1.94667690e-02, -2.14851554e-02,\n",
       "          4.11331141e-03,  1.79110765e-02, -7.09072873e-02,\n",
       "          3.30188759e-02,  1.62478201e-02, -1.22161834e-02,\n",
       "         -4.75714132e-02,  5.46982214e-02,  7.18789250e-02,\n",
       "          2.73555890e-03, -2.71307901e-02,  2.05461327e-02,\n",
       "          3.76610756e-02, -1.24370726e-03, -4.06925008e-02,\n",
       "         -3.68789621e-02, -5.44730690e-04, -4.67372052e-02,\n",
       "          3.31743844e-02,  4.63097356e-02, -3.31873037e-02,\n",
       "         -1.67761166e-02,  1.90179534e-02,  6.28380328e-02,\n",
       "         -6.93716807e-03,  1.71111722e-03, -6.00970276e-02,\n",
       "         -1.30697405e-02,  3.61023284e-02, -3.49577772e-03,\n",
       "         -1.15700485e-02, -1.13792397e-01, -1.54928751e-02,\n",
       "          3.09647042e-02,  2.71979272e-02, -6.35397295e-03,\n",
       "          6.61033046e-05, -4.27769385e-02, -1.14037720e-02,\n",
       "          7.53092095e-02,  3.84696038e-03, -1.82354990e-02,\n",
       "         -2.29078415e-03, -7.84193128e-02, -5.02594449e-02,\n",
       "         -1.13747781e-02,  4.25639674e-02,  1.26167452e-02,\n",
       "         -3.08317821e-02, -2.34571900e-02,  9.14371666e-03,\n",
       "         -2.09457073e-02,  6.28094003e-03,  1.97838265e-02,\n",
       "          5.72097534e-03, -3.25038098e-02,  1.98018234e-02,\n",
       "         -4.28269282e-02, -1.76917121e-03, -8.94214492e-03,\n",
       "         -7.63197290e-03, -1.22837620e-02, -2.46036705e-02,\n",
       "         -7.08978474e-02,  3.70484665e-02,  3.07327528e-02,\n",
       "          1.73569322e-02,  4.65971092e-03,  5.79025671e-02,\n",
       "          1.76467281e-02, -2.51466818e-02, -5.19301137e-03,\n",
       "         -4.82926285e-03,  2.13967878e-02, -5.64421387e-03,\n",
       "          2.21932735e-02,  8.88687838e-03,  8.78602415e-02,\n",
       "         -8.86085723e-03,  4.14877087e-02, -3.92262600e-02,\n",
       "         -1.45531427e-02,  9.61726997e-03,  3.95582020e-02,\n",
       "         -1.72215458e-02,  2.95378566e-02, -2.19962578e-02,\n",
       "          5.68494797e-02,  6.30203709e-02, -1.43531449e-02,\n",
       "          2.51177549e-02, -1.74202602e-02, -2.58473377e-03,\n",
       "         -1.44197242e-02, -2.78195590e-02, -4.24572714e-02,\n",
       "          2.59703174e-02, -1.33989369e-02,  4.64217272e-03,\n",
       "          2.30482537e-02, -4.64622527e-02,  2.27183625e-02,\n",
       "          2.76290905e-02,  1.38985794e-02,  3.53269763e-02,\n",
       "          3.32877897e-02, -3.70860137e-02, -5.58340438e-02,\n",
       "          3.46874967e-02,  5.82885966e-02,  5.37451822e-03,\n",
       "         -8.03894922e-03,  1.08566172e-02,  5.11147790e-02,\n",
       "         -1.54822962e-02, -3.37608643e-02,  3.25110033e-02,\n",
       "          1.59720145e-02,  4.54378575e-02, -2.06017233e-02,\n",
       "          8.78981408e-03,  5.07986657e-02, -1.36897126e-02,\n",
       "          5.43741800e-04,  5.44698909e-02, -1.95016935e-02,\n",
       "         -5.64097799e-03, -4.99725528e-02, -1.86580345e-02,\n",
       "         -1.86710916e-02, -1.27261067e-02, -1.67775084e-03,\n",
       "         -6.32438483e-03,  3.39600965e-02,  1.64316799e-02,\n",
       "         -8.01070333e-02, -1.68272834e-02,  7.01247668e-03,\n",
       "         -5.73532917e-02,  3.29085775e-02, -4.60080290e-03,\n",
       "         -9.81134363e-03,  4.21167910e-03, -2.25358922e-02,\n",
       "          6.05563074e-02, -1.71532556e-02,  1.13974116e-03,\n",
       "          2.71145757e-02,  6.59532659e-03, -1.82630052e-03,\n",
       "         -2.79985811e-03,  4.36219946e-02, -2.38020699e-02,\n",
       "         -1.45218521e-02,  6.85129175e-03,  3.31383608e-02,\n",
       "         -2.62321737e-02,  8.50563776e-03,  1.07265525e-02,\n",
       "          2.16384940e-02,  2.40759198e-02,  2.06040796e-02,\n",
       "          8.71476084e-02,  7.99645856e-03,  2.25254670e-02,\n",
       "          2.46702582e-02, -8.31784401e-03, -4.03301939e-02,\n",
       "          4.80868630e-02, -1.44121898e-02,  1.15364585e-02,\n",
       "         -2.68670190e-02, -7.53608998e-03, -1.63389109e-02,\n",
       "          5.97649664e-02,  1.15637518e-02,  3.68494876e-02,\n",
       "         -2.18313355e-02,  4.87901643e-02,  2.61706598e-02,\n",
       "         -7.32668908e-03, -4.03212830e-02,  1.42490948e-02,\n",
       "         -5.05081601e-02, -9.78213735e-03,  1.41883856e-02,\n",
       "         -2.79727932e-02, -1.97501015e-03, -1.03014372e-02,\n",
       "          7.68383688e-05, -1.03912922e-02, -2.64012497e-02,\n",
       "          1.91902649e-02, -6.47873953e-02, -9.42921638e-03,\n",
       "          1.32631259e-02, -2.92824805e-02, -5.01450039e-02,\n",
       "          2.78668869e-02, -1.16157206e-02,  2.05413029e-02,\n",
       "         -8.80044401e-02,  2.28796317e-03,  4.50563058e-03,\n",
       "          5.54358913e-03,  2.70147715e-02,  3.70349512e-02,\n",
       "          2.97490843e-02,  6.47981092e-03,  1.41038131e-02,\n",
       "         -1.85651034e-02, -3.81663814e-02,  4.02778350e-02,\n",
       "          5.63144451e-03, -2.65214331e-02, -2.45807674e-02,\n",
       "          1.91216543e-02, -5.58062410e-03,  4.32520639e-03,\n",
       "          1.98357999e-02,  2.12809793e-03, -3.60716283e-02,\n",
       "          4.84441929e-02,  7.72098429e-04, -6.21510064e-03,\n",
       "          2.51834802e-02,  2.09277608e-02,  7.84093514e-03,\n",
       "         -2.82592811e-02, -5.16813472e-02,  1.17792999e-02,\n",
       "          1.89523734e-02, -2.73255017e-02, -3.60331275e-02,\n",
       "         -7.61718117e-03,  4.10688221e-02,  8.73950198e-02,\n",
       "         -5.37083596e-02,  1.44023895e-02,  3.10828164e-03,\n",
       "          3.02405711e-02, -1.79321654e-02,  4.81570028e-02,\n",
       "         -3.96714397e-02,  1.59243140e-02,  2.01574117e-02,\n",
       "         -5.73184676e-02,  3.76120233e-03, -7.33891688e-03,\n",
       "         -8.97462666e-03, -6.19340986e-02, -1.36633739e-02,\n",
       "          8.70934688e-03,  6.16678875e-03, -1.71013188e-03,\n",
       "         -4.54991795e-02,  4.39305790e-02, -4.59938822e-03,\n",
       "          4.58156783e-03,  1.12617910e-02, -5.86357377e-02,\n",
       "          3.46872061e-02,  1.86438207e-02, -6.34099320e-02,\n",
       "          1.32626006e-02, -1.43836038e-02, -2.98497570e-03,\n",
       "         -3.21628270e-03,  2.01973300e-02,  9.93256737e-03,\n",
       "          1.18540681e-03, -5.72547177e-03,  7.00230673e-02,\n",
       "          1.05891591e-02,  3.05717736e-02, -1.55705800e-02,\n",
       "         -2.60742716e-02, -3.49095813e-03,  8.51171149e-04,\n",
       "         -8.35605636e-02, -5.47315441e-02, -2.42699143e-02,\n",
       "          6.37020469e-02,  1.58329252e-02, -8.26317773e-05,\n",
       "         -3.29772122e-02, -6.91722427e-03, -3.24110650e-02,\n",
       "         -1.77444201e-02,  4.37924825e-02,  4.99918908e-02,\n",
       "          1.99706927e-02,  7.25424215e-02, -1.85359884e-02,\n",
       "         -1.14844032e-02,  2.75237244e-02, -3.09671666e-02,\n",
       "          3.30237038e-02, -8.24404880e-03,  5.24803437e-02,\n",
       "          5.06184399e-02,  5.31754866e-02,  2.50491258e-02,\n",
       "         -5.09816967e-02,  3.57276411e-03, -3.06073390e-02,\n",
       "          2.33039055e-02,  8.75783190e-02, -3.29968799e-03,\n",
       "         -3.18931742e-03,  8.50671716e-03,  1.94804650e-02,\n",
       "          7.65358843e-03, -1.06792767e-02, -6.81416690e-03,\n",
       "         -3.18495780e-02, -5.83019517e-02, -7.71132065e-03,\n",
       "         -2.13718489e-02,  1.72993429e-02,  2.70796064e-02,\n",
       "          2.15391815e-02, -2.32345350e-02,  5.73029108e-02,\n",
       "         -1.71993673e-03,  2.17547398e-02,  4.40161629e-03,\n",
       "         -1.70149300e-02, -3.98257002e-02,  1.32875880e-02,\n",
       "          3.25584747e-02,  1.30701447e-02, -2.33457005e-03,\n",
       "          2.95724105e-02,  5.77882864e-03,  8.68694410e-02,\n",
       "          7.95570314e-02,  1.25004295e-02,  7.14383051e-02,\n",
       "         -2.12237909e-02,  3.36061907e-03,  1.30714038e-02,\n",
       "         -5.65847270e-02,  1.42807718e-02,  2.33010035e-02]]),\n",
       " 'documents': ['Wyjątkowa edycja wszystkich bajek dla dzieci Jana Brzechwy. Wspaniałe ilustracje Joli Richter-Magnuszewskiej, twarda oprawa, duży format – tego wydania nie może zabraknąć na półce z książkami! „Brzechwa dzieciom. Dzieła wszystkie. Bajki” – to tom otwierający niepowtarzalny cykl, w którym zebraliśmy wszystko, co wyszło spod pióra najpopularniejszego polskiego twórcy dla dzieci. Znajdą się w nim zarówno dobrze znane i dostępne utwory, jak i te trochę zapomniane, od lat niewznawiane, ale na pewno warte przypomnienia. Ten jedyny w swoim rodzaju hołd dla twórczości Jana Brzechwy obejmuje cztery tomy: „Bajki”, „Wiersze”, cykl o panu Kleksie oraz utwory sceniczne.'],\n",
       " 'uris': None,\n",
       " 'data': None,\n",
       " 'metadatas': [None],\n",
       " 'included': [<IncludeEnum.embeddings: 'embeddings'>,\n",
       "  <IncludeEnum.documents: 'documents'>,\n",
       "  <IncludeEnum.metadatas: 'metadatas'>]}"
      ]
     },
     "execution_count": 30,
     "metadata": {},
     "output_type": "execute_result"
    }
   ],
   "source": [
    "vector_store.count()\n",
    "# You can peek at the data too.\n",
    "vector_store.peek(1)"
   ]
  },
  {
   "cell_type": "markdown",
   "id": "d4479808",
   "metadata": {},
   "source": [
    "## Retrieval: Find relevant documents\n",
    "\n",
    "To search the Chroma database, call the `query` method. Note that you also switch to the `retrieval_query` mode of embedding generation.\n"
   ]
  },
  {
   "cell_type": "code",
   "execution_count": 31,
   "id": "395730f6",
   "metadata": {},
   "outputs": [
    {
     "data": {
      "text/markdown": [
       "Die Schweiz ist ein Rätsel im Herzen Europas. Aber nun haben sich zwei Bestseller-Autoren zusammengeschlossen, um ihre Geheimnisse zu lüften: der Cartoonist Sergio J. Lievano (Hoi - your Swiss german survival guide) und der Journalist Wolfgang Koydl (Die Besserkönner) beleuchten Käse und Politik, die Alpenfauna und die Luftwaffe, sowie bekannte Schweizer von Albert Einstein bis Roger Federer. Nie hat es so viel Spass gemacht, dieses merkwürdige Land kennenzulernen."
      ],
      "text/plain": [
       "<IPython.core.display.Markdown object>"
      ]
     },
     "execution_count": 31,
     "metadata": {},
     "output_type": "execute_result"
    }
   ],
   "source": [
    "# Switch to query mode when generating embeddings.\n",
    "embed_fn.document_mode = False\n",
    "# Search the Chroma DB using the specified query.\n",
    "#query = \"On which shelf is book is about Switzerland?\"\n",
    "query = \"Where is book about Switzerland?\"\n",
    "\n",
    "result = vector_store.query(query_texts=[query], n_results=2)\n",
    "[all_passages] = result[\"documents\"]\n",
    "[all_passage_ids] = result[\"ids\"]\n",
    "Markdown(all_passages[0])"
   ]
  },
  {
   "cell_type": "code",
   "execution_count": 32,
   "id": "ca594f48",
   "metadata": {},
   "outputs": [],
   "source": [
    "db_tools = [list_tables, describe_table, execute_query]\n",
    "\n",
    "instruction = \"\"\"You are a helpful chatbot as Minecraft female Librarian. \n",
    "You answers questions using book descriptions from the reference passages included below. In passages are only book descriptions.\n",
    "If the passage is irrelevant to the answer, you may ignore it.\n",
    "You can interact with an SQL database to get additional information about the book.\n",
    "You will take the users questions and turn them into SQL queries using the tools available. \n",
    "You can join passage to data in SQL database, based on this rule: PASSAGE_ID + 1 = book_id. Book_id starts simply from 1.\n",
    "Once you have the information you need, you will answer the user's question in polisch language, using the data returned.\n",
    "You will talk to a 7 year old girl, so you use apropriate language form with kindeness and sympathy.\n",
    "\n",
    "Use list_tables to see what tables are present, describe_table to understand the\n",
    "schema, and execute_query to issue an SQL SELECT query. Please befor each execute_query understand schema, so you know how to build SQL.\"\"\"\n",
    "\n",
    "client = genai.Client(api_key=GOOGLE_API_KEY)\n",
    "# Start a chat with automatic function calling enabled.\n",
    "chat = client.chats.create(\n",
    "    model=\"gemini-2.0-flash\",\n",
    "    config=types.GenerateContentConfig(\n",
    "        system_instruction=instruction,\n",
    "        tools=db_tools,\n",
    "    ),\n",
    ")"
   ]
  },
  {
   "cell_type": "code",
   "execution_count": 33,
   "id": "0a7707e7",
   "metadata": {},
   "outputs": [
    {
     "name": "stdout",
     "output_type": "stream",
     "text": [
      "QUESTION: Where is book about Switzerland?\n",
      "\n",
      "PASSAGE_ID: 4\n",
      "PASSAGE: Die Schweiz ist ein Rätsel im Herzen Europas. Aber nun haben sich zwei Bestseller-Autoren zusammengeschlossen, um ihre Geheimnisse zu lüften: der Cartoonist Sergio J. Lievano (Hoi - your Swiss german survival guide) und der Journalist Wolfgang Koydl (Die Besserkönner) beleuchten Käse und Politik, die Alpenfauna und die Luftwaffe, sowie bekannte Schweizer von Albert Einstein bis Roger Federer. Nie hat es so viel Spass gemacht, dieses merkwürdige Land kennenzulernen.\n",
      "PASSAGE_ID: 2\n",
      "PASSAGE: The book behind the viral internet sensation of \"The Scottish Granny\" reading this story to her grandchild, viewed over 3 milliontimes. Based on the popular song, THE WONKY DONKEY has sold over one millioncopies worldwide.\n",
      "\n",
      "\n",
      "Ach, kochanie, książka o Szwajcarii jest opisana w opisie numer 4. Wygląda na to, że to bardzo ciekawa książka o tym kraju w sercu Europy! Autorzy, Sergio J. Lievano i Wolfgang Koydl, opowiadają o serze, polityce, zwierzętach w Alpach i nawet o szwajcarskich samolotach! Brzmi jak świetna zabawa! Chciałabyś dowiedzieć się o niej czegoś więcej?\n",
      "\n"
     ]
    }
   ],
   "source": [
    "query_oneline = query.replace(\"\\n\", \" \")\n",
    "\n",
    "# This prompt is where you can specify any guidance on tone, or what topics the model should stick to, or avoid.\n",
    "prompt = f\"\"\"QUESTION: {query_oneline}\\n\\n\"\"\"\n",
    "\n",
    "# Add the retrieved documents to the prompt.\n",
    "# for passage in all_passages:\n",
    "for idx, passage in enumerate(all_passages):\n",
    "    passage_oneline = passage.replace(\"\\n\", \" \")\n",
    "    prompt += f\"PASSAGE_ID: {all_passage_ids[idx]}\\nPASSAGE: {passage_oneline}\\n\"\n",
    "\n",
    "print(prompt)\n",
    "resp = chat.send_message(prompt)\n",
    "print(f\"\\n{resp.text}\")"
   ]
  },
  {
   "cell_type": "code",
   "execution_count": 34,
   "id": "1c41b17e",
   "metadata": {},
   "outputs": [
    {
     "name": "stdout",
     "output_type": "stream",
     "text": [
      "QUESTION: W ktorej ksiazce wystepuje Hrabia Rzezuszko na twoje wyczucie?\n",
      "\n",
      "PASSAGE_ID: 1\n",
      "PASSAGE: Książka wpisana na Listę Skarbów Muzeum Książki Dziecięcej. Domowa wierszykownia według Rusinka. Próg ciągle podkłada ci nogę? Wyprowadzasz klucz na smyczy? Lubisz śpiewać do prysznica? Oglądasz kręcące się w pralce pranie? Nasze domowe przedmioty prowadzą w ukryciu podwójne życie. Sprawdź, co robią, kiedy na nie nie patrzysz. Błyskotliwie ilustrowana przez Joannę Rusinek książka to świetny pomysł na prezent, w którym każdy znajdzie coś dla siebie - dzieci zabawne wierszyki, a dorośli - dopiski z przymrużeniem oka.\n",
      "PASSAGE_ID: 0\n",
      "PASSAGE: Wyjątkowa edycja wszystkich bajek dla dzieci Jana Brzechwy. Wspaniałe ilustracje Joli Richter-Magnuszewskiej, twarda oprawa, duży format – tego wydania nie może zabraknąć na półce z książkami! „Brzechwa dzieciom. Dzieła wszystkie. Bajki” – to tom otwierający niepowtarzalny cykl, w którym zebraliśmy wszystko, co wyszło spod pióra najpopularniejszego polskiego twórcy dla dzieci. Znajdą się w nim zarówno dobrze znane i dostępne utwory, jak i te trochę zapomniane, od lat niewznawiane, ale na pewno warte przypomnienia. Ten jedyny w swoim rodzaju hołd dla twórczości Jana Brzechwy obejmuje cztery tomy: „Bajki”, „Wiersze”, cykl o panu Kleksie oraz utwory sceniczne.\n",
      "\n",
      "\n",
      "Hmm, Hrabia Rzezuszko... Wiesz, nie widzę go w tych opisach książek, które mam. Ale może spróbujemy poszukać w innej książce? Chcesz, żebym poszukała czegoś więcej na temat Hrabiego Rzezuszko?\n",
      "\n"
     ]
    }
   ],
   "source": [
    "# Switch to query mode when generating embeddings.\n",
    "embed_fn.document_mode = False\n",
    "# Search the Chroma DB using the specified query.\n",
    "#query = \"On which shelf is book is about Switzerland?\"\n",
    "# query = \"Where is book about Switzerland?\"\n",
    "query = \"W ktorej ksiazce wystepuje Hrabia Rzezuszko na twoje wyczucie?\"\n",
    "\n",
    "result = vector_store.query(query_texts=[query], n_results=2)\n",
    "[all_passages] = result[\"documents\"]\n",
    "[all_passage_ids] = result[\"ids\"]\n",
    "Markdown(all_passages[0])\n",
    "\n",
    "query_oneline = query.replace(\"\\n\", \" \")\n",
    "# This prompt is where you can specify any guidance on tone, or what topics the model should stick to, or avoid.\n",
    "prompt = f\"\"\"QUESTION: {query_oneline}\\n\\n\"\"\"\n",
    "\n",
    "# Add the retrieved documents to the prompt.\n",
    "# for passage in all_passages:\n",
    "for idx, passage in enumerate(all_passages):\n",
    "    passage_oneline = passage.replace(\"\\n\", \" \")\n",
    "    prompt += f\"PASSAGE_ID: {all_passage_ids[idx]}\\nPASSAGE: {passage_oneline}\\n\"\n",
    "\n",
    "print(prompt)\n",
    "resp = chat.send_message(prompt)\n",
    "print(f\"\\n{resp.text}\")"
   ]
  },
  {
   "cell_type": "code",
   "execution_count": null,
   "id": "3b8fbeaa",
   "metadata": {},
   "outputs": [],
   "source": []
  }
 ],
 "metadata": {
  "colab": {
   "name": "day-3-function-calling-with-the-gemini-api.ipynb",
   "toc_visible": true
  },
  "kaggle": {
   "accelerator": "none",
   "dataSources": [],
   "dockerImageVersionId": 30786,
   "isGpuEnabled": false,
   "isInternetEnabled": true,
   "language": "python",
   "sourceType": "notebook"
  },
  "kernelspec": {
   "display_name": "af-dihei",
   "language": "python",
   "name": "python3"
  },
  "language_info": {
   "codemirror_mode": {
    "name": "ipython",
    "version": 3
   },
   "file_extension": ".py",
   "mimetype": "text/x-python",
   "name": "python",
   "nbconvert_exporter": "python",
   "pygments_lexer": "ipython3",
   "version": "3.10.16"
  },
  "papermill": {
   "default_parameters": {},
   "duration": 50.639272,
   "end_time": "2025-04-04T21:44:55.469954",
   "environment_variables": {},
   "exception": null,
   "input_path": "__notebook__.ipynb",
   "output_path": "__notebook__.ipynb",
   "parameters": {},
   "start_time": "2025-04-04T21:44:04.830682",
   "version": "2.6.0"
  }
 },
 "nbformat": 4,
 "nbformat_minor": 5
}
