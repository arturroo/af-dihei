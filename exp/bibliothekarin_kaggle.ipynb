{
 "cells": [
  {
   "cell_type": "markdown",
   "id": "34adecea",
   "metadata": {
    "id": "b6e13eef3f5d",
    "papermill": {
     "duration": 0.008247,
     "end_time": "2025-04-04T21:44:08.558976",
     "exception": false,
     "start_time": "2025-04-04T21:44:08.550729",
     "status": "completed"
    },
    "tags": []
   },
   "source": [
    "# Artur Fejklowicz - Bibliothekarin\n",
    "Based on Kaggle 5 Day Intensive GenAI Course with Google - Day 3 Function Calling.\n",
    "\n",
    "For my daughter Maja.\n",
    "\n",
    "## Goals\n",
    "1. Increase versatile of read books by a child. Child can say what it wants to read and this agent should recommend one book by title.\n",
    "2. Allow to fast find the needed book in a bookcase like Ikea Kallax 3x3. Agent should be able to answer with x, y position of a shelf where book is stored in bookcase.\n",
    "\n",
    "## High-level overview\n",
    "1. Initialize SQLite database with book's metadata. Data collected manually by me for 11 books.\n",
    "2. Define 3 Python functions, that will be used as a tools by LLM.\n",
    "3. Naive RAG - index synthetic books descriptions with isbn as id. They are created from my prompt in Gemini 2.5 and here pasted. Embeddings model: text-embedding-004 from Google.\n",
    "4. Naive RAG - query. Initialize Gemini Chat with 3 tools to be ble to authonomusly decide about their use. Sent user Query"
   ]
  },
  {
   "cell_type": "markdown",
   "id": "e322050e",
   "metadata": {
    "id": "ea197d1d464f",
    "papermill": {
     "duration": 0.006949,
     "end_time": "2025-04-04T21:44:08.615570",
     "exception": false,
     "start_time": "2025-04-04T21:44:08.608621",
     "status": "completed"
    },
    "tags": []
   },
   "source": [
    "## Setup"
   ]
  },
  {
   "cell_type": "code",
   "execution_count": 2,
   "id": "a2566b78",
   "metadata": {
    "execution": {
     "iopub.execute_input": "2025-04-04T21:44:08.632230Z",
     "iopub.status.busy": "2025-04-04T21:44:08.631883Z",
     "iopub.status.idle": "2025-04-04T21:44:30.191792Z",
     "shell.execute_reply": "2025-04-04T21:44:30.189826Z"
    },
    "id": "a24f42e469df",
    "papermill": {
     "duration": 21.57138,
     "end_time": "2025-04-04T21:44:30.194755",
     "exception": false,
     "start_time": "2025-04-04T21:44:08.623375",
     "status": "completed"
    },
    "tags": []
   },
   "outputs": [],
   "source": [
    "# # Remove unused conflicting packages\n",
    "# # !pip uninstall -qqy jupyterlab\n",
    "# !pip install -U -q \"google-genai==1.7.0\""
   ]
  },
  {
   "cell_type": "code",
   "execution_count": 3,
   "id": "0b336265",
   "metadata": {
    "execution": {
     "iopub.execute_input": "2025-04-04T21:44:30.211997Z",
     "iopub.status.busy": "2025-04-04T21:44:30.211556Z",
     "iopub.status.idle": "2025-04-04T21:44:31.721211Z",
     "shell.execute_reply": "2025-04-04T21:44:31.720015Z"
    },
    "id": "02bb0f551e25",
    "papermill": {
     "duration": 1.521272,
     "end_time": "2025-04-04T21:44:31.723810",
     "exception": false,
     "start_time": "2025-04-04T21:44:30.202538",
     "status": "completed"
    },
    "tags": []
   },
   "outputs": [
    {
     "data": {
      "text/plain": [
       "'1.7.0'"
      ]
     },
     "execution_count": 3,
     "metadata": {},
     "output_type": "execute_result"
    }
   ],
   "source": [
    "from google import genai\n",
    "from google.genai import types\n",
    "\n",
    "genai.__version__"
   ]
  },
  {
   "cell_type": "markdown",
   "id": "e63fbb13",
   "metadata": {
    "id": "90e83cddff61",
    "papermill": {
     "duration": 0.007337,
     "end_time": "2025-04-04T21:44:31.739226",
     "exception": false,
     "start_time": "2025-04-04T21:44:31.731889",
     "status": "completed"
    },
    "tags": []
   },
   "source": [
    "### Set up API key"
   ]
  },
  {
   "cell_type": "code",
   "execution_count": 4,
   "id": "734eef91",
   "metadata": {
    "execution": {
     "iopub.execute_input": "2025-04-04T21:44:31.757687Z",
     "iopub.status.busy": "2025-04-04T21:44:31.757065Z",
     "iopub.status.idle": "2025-04-04T21:44:31.859670Z",
     "shell.execute_reply": "2025-04-04T21:44:31.858441Z"
    },
    "id": "5cc8325f051d",
    "papermill": {
     "duration": 0.114756,
     "end_time": "2025-04-04T21:44:31.862356",
     "exception": false,
     "start_time": "2025-04-04T21:44:31.747600",
     "status": "completed"
    },
    "tags": []
   },
   "outputs": [],
   "source": [
    "import os\n",
    "GOOGLE_API_KEY = os.getenv('GOOGLE_API_KEY')\n",
    "if not GOOGLE_API_KEY:\n",
    "    raise ValueError(\"API Key not found.\")"
   ]
  },
  {
   "cell_type": "markdown",
   "id": "60823b95",
   "metadata": {
    "papermill": {
     "duration": 0.007323,
     "end_time": "2025-04-04T21:44:31.894371",
     "exception": false,
     "start_time": "2025-04-04T21:44:31.887048",
     "status": "completed"
    },
    "tags": []
   },
   "source": [
    "### Automated retry"
   ]
  },
  {
   "cell_type": "code",
   "execution_count": 5,
   "id": "2621d9b8",
   "metadata": {
    "execution": {
     "iopub.execute_input": "2025-04-04T21:44:31.913683Z",
     "iopub.status.busy": "2025-04-04T21:44:31.913115Z",
     "iopub.status.idle": "2025-04-04T21:44:32.128491Z",
     "shell.execute_reply": "2025-04-04T21:44:32.127589Z"
    },
    "papermill": {
     "duration": 0.227833,
     "end_time": "2025-04-04T21:44:32.130933",
     "exception": false,
     "start_time": "2025-04-04T21:44:31.903100",
     "status": "completed"
    },
    "tags": []
   },
   "outputs": [],
   "source": [
    "# Define a retry policy. The model might make multiple consecutive calls automatically\n",
    "# for a complex query, this ensures the client retries if it hits quota limits.\n",
    "from google.api_core import retry\n",
    "\n",
    "is_retriable = lambda e: (isinstance(e, genai.errors.APIError) and e.code in {429, 503})\n",
    "\n",
    "if not hasattr(genai.models.Models.generate_content, '__wrapped__'):\n",
    "  genai.models.Models.generate_content = retry.Retry(\n",
    "      predicate=is_retriable)(genai.models.Models.generate_content)"
   ]
  },
  {
   "cell_type": "markdown",
   "id": "b6bc882a",
   "metadata": {
    "id": "ed8fc6062c62",
    "papermill": {
     "duration": 0.007259,
     "end_time": "2025-04-04T21:44:32.145961",
     "exception": false,
     "start_time": "2025-04-04T21:44:32.138702",
     "status": "completed"
    },
    "tags": []
   },
   "source": [
    "## Create a local database"
   ]
  },
  {
   "cell_type": "code",
   "execution_count": null,
   "id": "b6e46fbc",
   "metadata": {
    "execution": {
     "iopub.execute_input": "2025-04-04T21:44:32.163291Z",
     "iopub.status.busy": "2025-04-04T21:44:32.162741Z",
     "iopub.status.idle": "2025-04-04T21:44:34.216453Z",
     "shell.execute_reply": "2025-04-04T21:44:34.215106Z"
    },
    "id": "c98a627ef07b",
    "papermill": {
     "duration": 2.065474,
     "end_time": "2025-04-04T21:44:34.218982",
     "exception": false,
     "start_time": "2025-04-04T21:44:32.153508",
     "status": "completed"
    },
    "tags": []
   },
   "outputs": [
    {
     "name": "stdout",
     "output_type": "stream",
     "text": [
      "1.3.24\n"
     ]
    }
   ],
   "source": [
    "%reload_ext sql\n",
    "import sqlalchemy\n",
    "print(sqlalchemy.__version__)"
   ]
  },
  {
   "cell_type": "code",
   "execution_count": null,
   "id": "ca325bdc",
   "metadata": {},
   "outputs": [
    {
     "data": {
      "text/plain": [
       "'Connected: @sample.db'"
      ]
     },
     "execution_count": 7,
     "metadata": {},
     "output_type": "execute_result"
    }
   ],
   "source": [
    "%sql sqlite:///sample.db"
   ]
  },
  {
   "cell_type": "markdown",
   "id": "73dba528",
   "metadata": {},
   "source": [
    "Backwards compatibility of SQLite and Jupiter"
   ]
  },
  {
   "cell_type": "code",
   "execution_count": null,
   "id": "a4a92ade",
   "metadata": {},
   "outputs": [],
   "source": [
    "%config SqlMagic.style = '_DEPRECATED_MARKDOWN'"
   ]
  },
  {
   "cell_type": "markdown",
   "id": "4b17f2a2",
   "metadata": {
    "id": "14e7bc18b8af",
    "papermill": {
     "duration": 0.007796,
     "end_time": "2025-04-04T21:44:34.234929",
     "exception": false,
     "start_time": "2025-04-04T21:44:34.227133",
     "status": "completed"
    },
    "tags": []
   },
   "source": [
    "### Create the tables and insert some synthetic data."
   ]
  },
  {
   "cell_type": "code",
   "execution_count": 9,
   "id": "154a55df",
   "metadata": {},
   "outputs": [
    {
     "name": "stdout",
     "output_type": "stream",
     "text": [
      " * sqlite:///sample.db\n",
      "Done.\n",
      "Done.\n",
      "11 rows affected.\n"
     ]
    },
    {
     "data": {
      "text/plain": [
       "[]"
      ]
     },
     "execution_count": 9,
     "metadata": {},
     "output_type": "execute_result"
    }
   ],
   "source": [
    "%%sql\n",
    "DROP TABLE IF EXISTS bookcase;\n",
    "-- Create the 'bookcase' table\n",
    "CREATE TABLE IF NOT EXISTS bookcase (\n",
    "    book_id INTEGER PRIMARY KEY AUTOINCREMENT,\n",
    "    isbn VARCHAR(17) UNIQUE,\n",
    "    title VARCHAR(255) NOT NULL,\n",
    "    author VARCHAR(255) NOT NULL,\n",
    "    language VARCHAR(255),\n",
    "    cover_color VARCHAR(255),\n",
    "    cover_height_mm INTEGER,\n",
    "    release_year INTEGER,\n",
    "    number_of_pages INTEGER,\n",
    "    shelf_x INTEGER,\n",
    "    shelf_y INTEGER,\n",
    "    CONSTRAINT unique_isbn UNIQUE (isbn)\n",
    "  );\n",
    "-- INSERT sample data\n",
    "INSERT INTO bookcase (isbn, title, author, language, cover_color, cover_height_mm, release_year, number_of_pages, shelf_x, shelf_y) VALUES\n",
    "('978-83-10-12960-4', 'Brzechwa dzieciom. Dzieła wszystkie: Bajki',       'Jan Brzechwa',                       'polish',   'yellow',   250, 2018, 352, 1, 1),\n",
    "('978-83-240-3926-5', 'Wierszyki domowe',                                 'Michał Rusinek',                     'polish',   'red',      213, 2016, 184, 1, 2),\n",
    "('978-1-4071-9557-5', 'The Wonky Donkey',                                 'Craig Smith',                        'english',  'blue',     250, 2018, 24,  1, 3),\n",
    "('978-83-8073-725-9', 'Wiewiórki, które nie chciały się dzielić',         'Rachel Bright, Jim Field',           'polish',   'brown',    330, 2020, 32,  2, 1),\n",
    "('978-3-03869-022-1', 'Ganz schön Schweiz. Ein cartoon survival guide.',  'Sergio J. Lievano, Wolfgang Koydl',  'german',   'red',      250, 2017, 160, 2, 2),\n",
    "('978-83-8154-402-3', 'Tuż przed gwiazdką',                               'Barbara Supeł, Marta Koshulinska',   'polish',   'red',      250, 2019, 48,  2, 3),\n",
    "('978-83-8141-546-0', 'Walizka pełna marzeń',                             'Bardijewska Liliana',                'polish',   'red',      150, 2022, 112, 3, 1),\n",
    "('978-83-8057-731-2', 'Dziewczynki latają wysoko',                        'Raquel Diaz Reguera',                'polish',   'yellow',   230, 2018, 48,  3, 2),\n",
    "('978-3-551-28005-3', 'Die Eiskönigin',                                   'Disney',                             'german',   'blue',     285, 2018, 80,  1, 1),\n",
    "('978-3-551-51841-5', 'Das Neinhorn',                                     'Marc-Uwe Kling, Astrid Henn',        'german',   'blue',     276, 2019, 48,  1, 1),\n",
    "('978-83-240-9399-1', 'Odlotowe gołębie łapią bandytów',                  'Andrew McDonald, Ben Wood',          'polish',   'yellow',   150, 2023, 112, 2, 1)\n",
    ";\n"
   ]
  },
  {
   "cell_type": "code",
   "execution_count": 10,
   "id": "9b8149ab",
   "metadata": {},
   "outputs": [
    {
     "name": "stdout",
     "output_type": "stream",
     "text": [
      " * sqlite:///sample.db\n",
      "Done.\n"
     ]
    },
    {
     "data": {
      "text/html": [
       "<table>\n",
       "    <thead>\n",
       "        <tr>\n",
       "            <th>name</th>\n",
       "        </tr>\n",
       "    </thead>\n",
       "    <tbody>\n",
       "        <tr>\n",
       "            <td>sqlite_sequence</td>\n",
       "        </tr>\n",
       "        <tr>\n",
       "            <td>bookcase</td>\n",
       "        </tr>\n",
       "    </tbody>\n",
       "</table>"
      ],
      "text/plain": [
       "[('sqlite_sequence',), ('bookcase',)]"
      ]
     },
     "execution_count": 10,
     "metadata": {},
     "output_type": "execute_result"
    }
   ],
   "source": [
    "%sql SELECT name FROM sqlite_master WHERE type='table';"
   ]
  },
  {
   "cell_type": "code",
   "execution_count": 11,
   "id": "f0e9b41d",
   "metadata": {},
   "outputs": [
    {
     "name": "stdout",
     "output_type": "stream",
     "text": [
      " * sqlite:///sample.db\n",
      "Done.\n"
     ]
    },
    {
     "data": {
      "text/html": [
       "<table>\n",
       "    <thead>\n",
       "        <tr>\n",
       "            <th>book_id</th>\n",
       "            <th>isbn</th>\n",
       "            <th>title</th>\n",
       "            <th>author</th>\n",
       "            <th>language</th>\n",
       "            <th>cover_color</th>\n",
       "            <th>cover_height_mm</th>\n",
       "            <th>release_year</th>\n",
       "            <th>number_of_pages</th>\n",
       "            <th>shelf_x</th>\n",
       "            <th>shelf_y</th>\n",
       "        </tr>\n",
       "    </thead>\n",
       "    <tbody>\n",
       "        <tr>\n",
       "            <td>1</td>\n",
       "            <td>978-83-10-12960-4</td>\n",
       "            <td>Brzechwa dzieciom. Dzieła wszystkie: Bajki</td>\n",
       "            <td>Jan Brzechwa</td>\n",
       "            <td>polish</td>\n",
       "            <td>yellow</td>\n",
       "            <td>250</td>\n",
       "            <td>2018</td>\n",
       "            <td>352</td>\n",
       "            <td>1</td>\n",
       "            <td>1</td>\n",
       "        </tr>\n",
       "        <tr>\n",
       "            <td>2</td>\n",
       "            <td>978-83-240-3926-5</td>\n",
       "            <td>Wierszyki domowe</td>\n",
       "            <td>Michał Rusinek</td>\n",
       "            <td>polish</td>\n",
       "            <td>red</td>\n",
       "            <td>213</td>\n",
       "            <td>2016</td>\n",
       "            <td>184</td>\n",
       "            <td>1</td>\n",
       "            <td>2</td>\n",
       "        </tr>\n",
       "        <tr>\n",
       "            <td>3</td>\n",
       "            <td>978-1-4071-9557-5</td>\n",
       "            <td>The Wonky Donkey</td>\n",
       "            <td>Craig Smith</td>\n",
       "            <td>english</td>\n",
       "            <td>blue</td>\n",
       "            <td>250</td>\n",
       "            <td>2018</td>\n",
       "            <td>24</td>\n",
       "            <td>1</td>\n",
       "            <td>3</td>\n",
       "        </tr>\n",
       "        <tr>\n",
       "            <td>4</td>\n",
       "            <td>978-83-8073-725-9</td>\n",
       "            <td>Wiewiórki, które nie chciały się dzielić</td>\n",
       "            <td>Rachel Bright, Jim Field</td>\n",
       "            <td>polish</td>\n",
       "            <td>brown</td>\n",
       "            <td>330</td>\n",
       "            <td>2020</td>\n",
       "            <td>32</td>\n",
       "            <td>2</td>\n",
       "            <td>1</td>\n",
       "        </tr>\n",
       "        <tr>\n",
       "            <td>5</td>\n",
       "            <td>978-3-03869-022-1</td>\n",
       "            <td>Ganz schön Schweiz. Ein cartoon survival guide.</td>\n",
       "            <td>Sergio J. Lievano, Wolfgang Koydl</td>\n",
       "            <td>german</td>\n",
       "            <td>red</td>\n",
       "            <td>250</td>\n",
       "            <td>2017</td>\n",
       "            <td>160</td>\n",
       "            <td>2</td>\n",
       "            <td>2</td>\n",
       "        </tr>\n",
       "        <tr>\n",
       "            <td>6</td>\n",
       "            <td>978-83-8154-402-3</td>\n",
       "            <td>Tuż przed gwiazdką</td>\n",
       "            <td>Barbara Supeł, Marta Koshulinska</td>\n",
       "            <td>polish</td>\n",
       "            <td>red</td>\n",
       "            <td>250</td>\n",
       "            <td>2019</td>\n",
       "            <td>48</td>\n",
       "            <td>2</td>\n",
       "            <td>3</td>\n",
       "        </tr>\n",
       "        <tr>\n",
       "            <td>7</td>\n",
       "            <td>978-83-8141-546-0</td>\n",
       "            <td>Walizka pełna marzeń</td>\n",
       "            <td>Bardijewska Liliana</td>\n",
       "            <td>polish</td>\n",
       "            <td>red</td>\n",
       "            <td>150</td>\n",
       "            <td>2022</td>\n",
       "            <td>112</td>\n",
       "            <td>3</td>\n",
       "            <td>1</td>\n",
       "        </tr>\n",
       "        <tr>\n",
       "            <td>8</td>\n",
       "            <td>978-83-8057-731-2</td>\n",
       "            <td>Dziewczynki latają wysoko</td>\n",
       "            <td>Raquel Diaz Reguera</td>\n",
       "            <td>polish</td>\n",
       "            <td>yellow</td>\n",
       "            <td>230</td>\n",
       "            <td>2018</td>\n",
       "            <td>48</td>\n",
       "            <td>3</td>\n",
       "            <td>2</td>\n",
       "        </tr>\n",
       "        <tr>\n",
       "            <td>9</td>\n",
       "            <td>978-3-551-28005-3</td>\n",
       "            <td>Die Eiskönigin</td>\n",
       "            <td>Disney</td>\n",
       "            <td>german</td>\n",
       "            <td>blue</td>\n",
       "            <td>285</td>\n",
       "            <td>2018</td>\n",
       "            <td>80</td>\n",
       "            <td>1</td>\n",
       "            <td>1</td>\n",
       "        </tr>\n",
       "        <tr>\n",
       "            <td>10</td>\n",
       "            <td>978-3-551-51841-5</td>\n",
       "            <td>Das Neinhorn</td>\n",
       "            <td>Marc-Uwe Kling, Astrid Henn</td>\n",
       "            <td>german</td>\n",
       "            <td>blue</td>\n",
       "            <td>276</td>\n",
       "            <td>2019</td>\n",
       "            <td>48</td>\n",
       "            <td>1</td>\n",
       "            <td>1</td>\n",
       "        </tr>\n",
       "        <tr>\n",
       "            <td>11</td>\n",
       "            <td>978-83-240-9399-1</td>\n",
       "            <td>Odlotowe gołębie łapią bandytów</td>\n",
       "            <td>Andrew McDonald, Ben Wood</td>\n",
       "            <td>polish</td>\n",
       "            <td>yellow</td>\n",
       "            <td>150</td>\n",
       "            <td>2023</td>\n",
       "            <td>112</td>\n",
       "            <td>2</td>\n",
       "            <td>1</td>\n",
       "        </tr>\n",
       "    </tbody>\n",
       "</table>"
      ],
      "text/plain": [
       "[(1, '978-83-10-12960-4', 'Brzechwa dzieciom. Dzieła wszystkie: Bajki', 'Jan Brzechwa', 'polish', 'yellow', 250, 2018, 352, 1, 1),\n",
       " (2, '978-83-240-3926-5', 'Wierszyki domowe', 'Michał Rusinek', 'polish', 'red', 213, 2016, 184, 1, 2),\n",
       " (3, '978-1-4071-9557-5', 'The Wonky Donkey', 'Craig Smith', 'english', 'blue', 250, 2018, 24, 1, 3),\n",
       " (4, '978-83-8073-725-9', 'Wiewiórki, które nie chciały się dzielić', 'Rachel Bright, Jim Field', 'polish', 'brown', 330, 2020, 32, 2, 1),\n",
       " (5, '978-3-03869-022-1', 'Ganz schön Schweiz. Ein cartoon survival guide.', 'Sergio J. Lievano, Wolfgang Koydl', 'german', 'red', 250, 2017, 160, 2, 2),\n",
       " (6, '978-83-8154-402-3', 'Tuż przed gwiazdką', 'Barbara Supeł, Marta Koshulinska', 'polish', 'red', 250, 2019, 48, 2, 3),\n",
       " (7, '978-83-8141-546-0', 'Walizka pełna marzeń', 'Bardijewska Liliana', 'polish', 'red', 150, 2022, 112, 3, 1),\n",
       " (8, '978-83-8057-731-2', 'Dziewczynki latają wysoko', 'Raquel Diaz Reguera', 'polish', 'yellow', 230, 2018, 48, 3, 2),\n",
       " (9, '978-3-551-28005-3', 'Die Eiskönigin', 'Disney', 'german', 'blue', 285, 2018, 80, 1, 1),\n",
       " (10, '978-3-551-51841-5', 'Das Neinhorn', 'Marc-Uwe Kling, Astrid Henn', 'german', 'blue', 276, 2019, 48, 1, 1),\n",
       " (11, '978-83-240-9399-1', 'Odlotowe gołębie łapią bandytów', 'Andrew McDonald, Ben Wood', 'polish', 'yellow', 150, 2023, 112, 2, 1)]"
      ]
     },
     "execution_count": 11,
     "metadata": {},
     "output_type": "execute_result"
    }
   ],
   "source": [
    "%sql SELECT * FROM bookcase;"
   ]
  },
  {
   "cell_type": "markdown",
   "id": "7f6c2265",
   "metadata": {
    "id": "83901899a79b",
    "papermill": {
     "duration": 0.007463,
     "end_time": "2025-04-04T21:44:34.397049",
     "exception": false,
     "start_time": "2025-04-04T21:44:34.389586",
     "status": "completed"
    },
    "tags": []
   },
   "source": [
    "## Define database functions\n",
    "\n",
    "Function calling with Gemini API's Python SDK can be implemented by defining [an OpenAPI schema](https://ai.google.dev/api/caching#Schema) that is passed to the model. You can also define Python functions and let the SDK inspect them to automatically define the schema. In this latter case, it's important that the functions are type annotated and have accurate docstrings that describe what the functions do - the model has no insight into the function body, so the docs function as the interface.\n",
    "\n",
    "By providing three key pieces of functionality - listing tables, describing a table, and executing a query - the LLM (much like a human user) will have the basic tools needed to understand and interrogate the database.\n",
    "\n",
    "Start with a database connection that will be used across all of the functions."
   ]
  },
  {
   "cell_type": "code",
   "execution_count": 12,
   "id": "4f0cf2bf",
   "metadata": {
    "execution": {
     "iopub.execute_input": "2025-04-04T21:44:34.415297Z",
     "iopub.status.busy": "2025-04-04T21:44:34.414835Z",
     "iopub.status.idle": "2025-04-04T21:44:34.421767Z",
     "shell.execute_reply": "2025-04-04T21:44:34.419659Z"
    },
    "id": "437168bc6b6e",
    "papermill": {
     "duration": 0.020235,
     "end_time": "2025-04-04T21:44:34.425190",
     "exception": false,
     "start_time": "2025-04-04T21:44:34.404955",
     "status": "completed"
    },
    "tags": []
   },
   "outputs": [],
   "source": [
    "import sqlite3\n",
    "\n",
    "db_file = \"sample.db\"\n",
    "db_conn = sqlite3.connect(db_file)"
   ]
  },
  {
   "cell_type": "markdown",
   "id": "28a27b15",
   "metadata": {
    "id": "b68b1a2c37d9",
    "papermill": {
     "duration": 0.007897,
     "end_time": "2025-04-04T21:44:34.441590",
     "exception": false,
     "start_time": "2025-04-04T21:44:34.433693",
     "status": "completed"
    },
    "tags": []
   },
   "source": [
    "The first function will list all tables available in the database. Define it, and test it out to ensure it works."
   ]
  },
  {
   "cell_type": "code",
   "execution_count": 13,
   "id": "15481a75",
   "metadata": {
    "execution": {
     "iopub.execute_input": "2025-04-04T21:44:34.459856Z",
     "iopub.status.busy": "2025-04-04T21:44:34.459437Z",
     "iopub.status.idle": "2025-04-04T21:44:34.469897Z",
     "shell.execute_reply": "2025-04-04T21:44:34.468631Z"
    },
    "id": "bdb0e4d2bb4b",
    "papermill": {
     "duration": 0.022372,
     "end_time": "2025-04-04T21:44:34.472328",
     "exception": false,
     "start_time": "2025-04-04T21:44:34.449956",
     "status": "completed"
    },
    "tags": []
   },
   "outputs": [
    {
     "name": "stdout",
     "output_type": "stream",
     "text": [
      " - DB CALL: list_tables()\n"
     ]
    },
    {
     "data": {
      "text/plain": [
       "['sqlite_sequence', 'bookcase']"
      ]
     },
     "execution_count": 13,
     "metadata": {},
     "output_type": "execute_result"
    }
   ],
   "source": [
    "def list_tables() -> list[str]:\n",
    "    \"\"\"Retrieve the names of all tables in the database.\"\"\"\n",
    "    # Include print logging statements so you can see when functions are being called.\n",
    "    print(' - DB CALL: list_tables()')\n",
    "\n",
    "    cursor = db_conn.cursor()\n",
    "\n",
    "    # Fetch the table names.\n",
    "    cursor.execute(\"SELECT name FROM sqlite_master WHERE type='table';\")\n",
    "\n",
    "    tables = cursor.fetchall()\n",
    "    return [t[0] for t in tables]\n",
    "\n",
    "\n",
    "list_tables()"
   ]
  },
  {
   "cell_type": "markdown",
   "id": "0a8b9fc0",
   "metadata": {
    "id": "b6c010b1b6c2",
    "papermill": {
     "duration": 0.007767,
     "end_time": "2025-04-04T21:44:34.488135",
     "exception": false,
     "start_time": "2025-04-04T21:44:34.480368",
     "status": "completed"
    },
    "tags": []
   },
   "source": [
    "Once the available tables is known, the next step a database user will need is to understand what columns are available in a given table. Define that too, and test that it works as expected."
   ]
  },
  {
   "cell_type": "code",
   "execution_count": 14,
   "id": "5362f29e",
   "metadata": {
    "execution": {
     "iopub.execute_input": "2025-04-04T21:44:34.508168Z",
     "iopub.status.busy": "2025-04-04T21:44:34.507763Z",
     "iopub.status.idle": "2025-04-04T21:44:34.519925Z",
     "shell.execute_reply": "2025-04-04T21:44:34.518657Z"
    },
    "id": "ecdb109298c4",
    "papermill": {
     "duration": 0.025886,
     "end_time": "2025-04-04T21:44:34.522224",
     "exception": false,
     "start_time": "2025-04-04T21:44:34.496338",
     "status": "completed"
    },
    "tags": []
   },
   "outputs": [
    {
     "name": "stdout",
     "output_type": "stream",
     "text": [
      " - DB CALL: describe_table(bookcase)\n"
     ]
    },
    {
     "data": {
      "text/plain": [
       "[('book_id', 'INTEGER'),\n",
       " ('isbn', 'VARCHAR(17)'),\n",
       " ('title', 'VARCHAR(255)'),\n",
       " ('author', 'VARCHAR(255)'),\n",
       " ('language', 'VARCHAR(255)'),\n",
       " ('cover_color', 'VARCHAR(255)'),\n",
       " ('cover_height_mm', 'INTEGER'),\n",
       " ('release_year', 'INTEGER'),\n",
       " ('number_of_pages', 'INTEGER'),\n",
       " ('shelf_x', 'INTEGER'),\n",
       " ('shelf_y', 'INTEGER')]"
      ]
     },
     "execution_count": 14,
     "metadata": {},
     "output_type": "execute_result"
    }
   ],
   "source": [
    "def describe_table(table_name: str) -> list[tuple[str, str]]:\n",
    "    \"\"\"Look up the table schema.\n",
    "\n",
    "    Returns:\n",
    "      List of columns, where each entry is a tuple of (column, type).\n",
    "    \"\"\"\n",
    "    print(f' - DB CALL: describe_table({table_name})')\n",
    "\n",
    "    cursor = db_conn.cursor()\n",
    "\n",
    "    cursor.execute(f\"PRAGMA table_info({table_name});\")\n",
    "\n",
    "    schema = cursor.fetchall()\n",
    "    # [column index, column name, column type, ...]\n",
    "    return [(col[1], col[2]) for col in schema]\n",
    "\n",
    "\n",
    "describe_table(\"bookcase\")"
   ]
  },
  {
   "cell_type": "markdown",
   "id": "dd0c8b3a",
   "metadata": {
    "id": "f6053a2ca272",
    "papermill": {
     "duration": 0.008175,
     "end_time": "2025-04-04T21:44:34.538507",
     "exception": false,
     "start_time": "2025-04-04T21:44:34.530332",
     "status": "completed"
    },
    "tags": []
   },
   "source": [
    "Now that the system knows what tables and columns are present, it has enough information to be able to generate and run a `SELECT` query. Now provide that functionality, and test that it works."
   ]
  },
  {
   "cell_type": "code",
   "execution_count": null,
   "id": "1961891a",
   "metadata": {
    "execution": {
     "iopub.execute_input": "2025-04-04T21:44:34.557733Z",
     "iopub.status.busy": "2025-04-04T21:44:34.557293Z",
     "iopub.status.idle": "2025-04-04T21:44:34.567919Z",
     "shell.execute_reply": "2025-04-04T21:44:34.566758Z"
    },
    "id": "9e405db8b3f6",
    "papermill": {
     "duration": 0.022502,
     "end_time": "2025-04-04T21:44:34.570359",
     "exception": false,
     "start_time": "2025-04-04T21:44:34.547857",
     "status": "completed"
    },
    "tags": []
   },
   "outputs": [
    {
     "name": "stdout",
     "output_type": "stream",
     "text": [
      " - DB CALL: execute_query(select * from bookcase)\n"
     ]
    },
    {
     "data": {
      "text/plain": [
       "[(1,\n",
       "  '978-83-10-12960-4',\n",
       "  'Brzechwa dzieciom. Dzieła wszystkie: Bajki',\n",
       "  'Jan Brzechwa',\n",
       "  'polish',\n",
       "  'yellow',\n",
       "  250,\n",
       "  2018,\n",
       "  352,\n",
       "  1,\n",
       "  1),\n",
       " (2,\n",
       "  '978-83-240-3926-5',\n",
       "  'Wierszyki domowe',\n",
       "  'Michał Rusinek',\n",
       "  'polish',\n",
       "  'red',\n",
       "  213,\n",
       "  2016,\n",
       "  184,\n",
       "  1,\n",
       "  2),\n",
       " (3,\n",
       "  '978-1-4071-9557-5',\n",
       "  'The Wonky Donkey',\n",
       "  'Craig Smith',\n",
       "  'english',\n",
       "  'blue',\n",
       "  250,\n",
       "  2018,\n",
       "  24,\n",
       "  1,\n",
       "  3),\n",
       " (4,\n",
       "  '978-83-8073-725-9',\n",
       "  'Wiewiórki, które nie chciały się dzielić',\n",
       "  'Rachel Bright, Jim Field',\n",
       "  'polish',\n",
       "  'brown',\n",
       "  330,\n",
       "  2020,\n",
       "  32,\n",
       "  2,\n",
       "  1),\n",
       " (5,\n",
       "  '978-3-03869-022-1',\n",
       "  'Ganz schön Schweiz. Ein cartoon survival guide.',\n",
       "  'Sergio J. Lievano, Wolfgang Koydl',\n",
       "  'german',\n",
       "  'red',\n",
       "  250,\n",
       "  2017,\n",
       "  160,\n",
       "  2,\n",
       "  2),\n",
       " (6,\n",
       "  '978-83-8154-402-3',\n",
       "  'Tuż przed gwiazdką',\n",
       "  'Barbara Supeł, Marta Koshulinska',\n",
       "  'polish',\n",
       "  'red',\n",
       "  250,\n",
       "  2019,\n",
       "  48,\n",
       "  2,\n",
       "  3),\n",
       " (7,\n",
       "  '978-83-8141-546-0',\n",
       "  'Walizka pełna marzeń',\n",
       "  'Bardijewska Liliana',\n",
       "  'polish',\n",
       "  'red',\n",
       "  150,\n",
       "  2022,\n",
       "  112,\n",
       "  3,\n",
       "  1),\n",
       " (8,\n",
       "  '978-83-8057-731-2',\n",
       "  'Dziewczynki latają wysoko',\n",
       "  'Raquel Diaz Reguera',\n",
       "  'polish',\n",
       "  'yellow',\n",
       "  230,\n",
       "  2018,\n",
       "  48,\n",
       "  3,\n",
       "  2),\n",
       " (9,\n",
       "  '978-3-551-28005-3',\n",
       "  'Die Eiskönigin',\n",
       "  'Disney',\n",
       "  'german',\n",
       "  'blue',\n",
       "  285,\n",
       "  2018,\n",
       "  80,\n",
       "  1,\n",
       "  1),\n",
       " (10,\n",
       "  '978-3-551-51841-5',\n",
       "  'Das Neinhorn',\n",
       "  'Marc-Uwe Kling, Astrid Henn',\n",
       "  'german',\n",
       "  'blue',\n",
       "  276,\n",
       "  2019,\n",
       "  48,\n",
       "  1,\n",
       "  1),\n",
       " (11,\n",
       "  '978-83-240-9399-1',\n",
       "  'Odlotowe gołębie łapią bandytów',\n",
       "  'Andrew McDonald, Ben Wood',\n",
       "  'polish',\n",
       "  'yellow',\n",
       "  150,\n",
       "  2023,\n",
       "  112,\n",
       "  2,\n",
       "  1)]"
      ]
     },
     "execution_count": 15,
     "metadata": {},
     "output_type": "execute_result"
    }
   ],
   "source": [
    "def execute_query(sql: str) -> list[list[str]]:\n",
    "    \"\"\"Execute an SQL statement, returning the results.\"\"\"\n",
    "    print(f' - DB CALL: execute_query({sql})')\n",
    "\n",
    "    cursor = db_conn.cursor()\n",
    "\n",
    "    cursor.execute(sql)\n",
    "    return cursor.fetchall() \n",
    "\n",
    "\n",
    "execute_query(\"SELECT * FROM bookcase LIMIT 1\")"
   ]
  },
  {
   "cell_type": "markdown",
   "id": "c48816a4",
   "metadata": {},
   "source": [
    "## Naive RAG for books descriptions"
   ]
  },
  {
   "cell_type": "markdown",
   "id": "2491d087",
   "metadata": {},
   "source": [
    "First install Chroma"
   ]
  },
  {
   "cell_type": "code",
   "execution_count": 24,
   "id": "4218f535",
   "metadata": {},
   "outputs": [],
   "source": [
    "!pip install -qU \"chromadb==0.6.3\""
   ]
  },
  {
   "cell_type": "code",
   "execution_count": 28,
   "id": "5b9e2732",
   "metadata": {},
   "outputs": [],
   "source": [
    "SYNTH_DESC1 = r\"\"\"Ta książka to zbiór najbardziej znanych i lubianych bajek napisanych przez Jana Brzechwę. Znajdziesz w niej opowieści o zwierzętach, ludziach i niezwykłych zdarzeniach, pełne humoru i mądrości. Poznasz historię Kaczki Dziwaczki, która wszystko robiła na odwrót i pływała w rondlu. Dowiesz się, dlaczego Stonoga spóźniła się na bal i jak liczyła swoje nóżki. Odkryjesz też przygody sprytnej Pchły Szachrajki, która potrafiła oszukać nawet lwa. Przeczytasz o Sójce, która wybierała się za morze, ale nigdy tam nie dotarła. W każdej bajce kryje się morał, który uczy czegoś ważnego o życiu. Bohaterowie tych opowieści, często zabawni i trochę dziwni, przeżywają ciekawe przygody. To wierszowane historyjki, które łatwo wpadają w ucho i bawią czytelników w każdym wieku. Wyrusz w podróż do świata fantazji, śmiechu i ważnych lekcji z wierszami Brzechwy.\"\"\"\n",
    "SYNTH_DESC2 = r\"\"\"Ta książka zawiera zbiór zabawnych wierszyków o przedmiotach, które można znaleźć w każdym domu. Autor w dowcipny sposób opisuje codzienne rzeczy, nadając im niezwykłe cechy. Dowiesz się, co myśli sobie stary, skrzypiący kaloryfer albo jakie przygody przeżywa pilot od telewizora. Przeczytasz o sekretnym życiu pralki podczas wirowania i o tym, co dzieje się w kuchennym zlewie po zmroku. Wierszyki pokazują, że nawet najbardziej zwyczajne przedmioty mogą ożyć w naszej wyobraźni. Każdy wierszyk to krótka, rymowana historyjka pełna zaskakujących pomysłów i humoru. Dzięki tej książce spojrzysz na swoje mieszkanie zupełnie inaczej, odkrywając magię w codzienności. To lektura, która udowadnia, że świat wokół nas jest pełen ciekawych opowieści. Znajdziesz tu mnóstwo śmiechu i inspiracji do własnych obserwacji. Przekonaj się, jak fascynujący może być Twój własny dom dzięki tym wesołym rymowankom.\"\"\"\n",
    "SYNTH_DESC3 = r\"\"\"This book tells the funny story of a donkey walking down the road. He isn't just any ordinary donkey; he's quite unique and very silly. As the story unfolds, you learn more and more amusing things about him. First, you discover that he only has three legs, making him a wonky donkey. Then, you find out he also has only one eye, adding another detail to his description. Each page adds a new, funny characteristic to the growing list of his quirks. The descriptions get longer and more hilarious with every turn of the page. It's a story built on repetition and adding funny adjectives to describe the donkey. You'll surely giggle trying to keep up with all his silly features. Join the fun and meet the progressively sillier, stinky, lanky, honky-tonky, winky, wonky donkey!\"\"\"\n",
    "SYNTH_DESC4 = r\"\"\"Ta książka opowiada historię dwóch bardzo chciwych wiewiórek, Cyryla i Błażeja. Pewnego jesiennego dnia obie wiewiórki znalazły ostatnią, idealną szyszkę na zimę. Żadna z nich nie miała najmniejszego zamiaru podzielić się swoim znaleziskiem z drugą. Rozpoczęła się szalona pogoń przez las, pełna podstępów i sztuczek, aby zdobyć szyszkę tylko dla siebie. Ich zacięta rywalizacja doprowadziła do wielu zabawnych, ale też niebezpiecznych sytuacji. W końcu ich kłótnia i walka o szyszkę wpędziły je w poważne tarapaty, z których mogły wyjść tylko razem. W obliczu niebezpieczeństwa musiały nauczyć się, że współpraca jest ważniejsza niż posiadanie czegoś na własność. Odkryły, że przyjaźń i dzielenie się przynoszą o wiele więcej radości niż chciwość. To ciepła i mądra opowieść o tym, jak ważne jest bycie dobrym dla innych. Zobacz, jak Cyryl i Błażej zrozumieli swój błąd i nauczyli się prawdziwej wartości dzielenia się.\"\"\"\n",
    "SYNTH_DESC5 = r\"\"\"Dieses Buch ist ein lustiger Comic-Ratgeber über die Schweiz und ihre besonderen Eigenschaften. Es zeigt mit vielen witzigen Bildern, was typisch für die Schweizer Kultur und das Leben hier ist. Du lernst auf humorvolle Weise die Gewohnheiten der Menschen in der Schweiz kennen. Das Buch erklärt zum Beispiel mit Cartoons, warum Pünktlichkeit hier so wichtig ist. Es zeigt auch, wie man sich in den Bergen richtig verhält oder was der \"Röstigraben\" bedeutet. Viele bunte Zeichnungen machen das Entdecken der Schweizer Besonderheiten zu einem grossen Spass. Kleine Alltagssituationen werden dargestellt, die manchmal etwas seltsam oder lustig wirken können. Du erfährst auf leichte und unterhaltsame Art mehr über das Land und seine Traditionen. Die Cartoons helfen dir, die Schweiz und ihre Leute mit einem Augenzwinkern besser zu verstehen. Entdecke die Schweiz auf eine ganz neue, witzige Art mit diesem Cartoon-Führer!\"\"\"\n",
    "SYNTH_DESC6 = r\"\"\"Ta książka opowiada o wyjątkowym, magicznym czasie tuż przed Świętami Bożego Narodzenia. Poznajemy rodzinę, która z wielką radością i zaangażowaniem przygotowuje się do nadchodzącej Gwiazdki. Dzieci z niecierpliwością wypatrują pierwszej gwiazdki na niebie i marzą o prezentach pod choinką. W całym domu unosi się cudowny zapach pieczonych pierników i świątecznych potraw. Za oknem delikatnie prószy śnieg, tworząc zimową atmosferę oczekiwania. Książka opisuje codzienne przygotowania, takie jak wspólne pieczenie ciasteczek, robienie ozdób czy ubieranie choinki. Bohaterowie przeżywają małe, przedświąteczne przygody i doświadczają miłych niespodzianek. To ciepła opowieść o rodzinnych więziach, radości oczekiwania i niepowtarzalnej magii świąt. Poczujesz atmosferę przygotowań i podekscytowanie związane ze zbliżającą się Wigilią. Historia przypomina, jak ważne są wspólnie spędzane chwile w tym niezwykłym okresie roku.\"\"\"\n",
    "SYNTH_DESC7 = r\"\"\"Ta książka zabierze Cię w niezwykłą podróż do krainy wyobraźni i wielkich marzeń. Opowiada historię kogoś, kto posiada tajemniczą, starą walizkę. Jednak ta walizka nie jest wypełniona zwykłymi rzeczami, jak ubrania czy pamiątki z podróży. W jej wnętrzu kryją się najpiękniejsze i najskrytsze marzenia, pragnienia oraz nadzieje. Bohaterowie opowieści przeżywają przygody, które pomagają im odkryć, czego tak naprawdę pragną w życiu. Historia pokazuje, jak ważne jest, aby nigdy nie rezygnować ze swoich marzeń i dążyć do ich spełnienia. Książka uczy odwagi w podążaniu własną ścieżką i wiary we własne możliwości. To piękna opowieść o tym, że każdy z nas nosi w sobie potencjał do realizacji swoich pragnień. Dowiesz się, że siła wyobraźni potrafi zaprowadzić nas w niesamowite miejsca. Otwórz tę symboliczną walizkę razem z bohaterami i odkryj potęgę swoich własnych marzeń.\"\"\"\n",
    "SYNTH_DESC8 = r\"\"\"Ta książka opowiada inspirujące historie dziewczynek, które mają odwagę marzyć i realizować swoje pasje. Każda z bohaterek jest inna, ma swoje zainteresowania i talenty, ale wszystkie łączy pragnienie sięgania wysoko. Poznajemy dziewczynki, które nie boją się być sobą i robić tego, co naprawdę kochają, nawet jeśli jest to nietypowe. Niektóre marzą o lataniu samolotem, inne chcą zostać naukowczyniami, odkrywczyniami czy wielkimi artystkami. Książka pokazuje z mocą, że dziewczynki mogą osiągnąć absolutnie wszystko, czego tylko zapragną. Bohaterki udowadniają, że nie ma rzeczy niemożliwych, jeśli mocno w siebie wierzymy i ciężko pracujemy. To wspaniała opowieść o sile, determinacji, odwadze i przełamywaniu krzywdzących stereotypów. Inspiruje każdą młodą czytelniczkę do tego, by nie bała się marzyć odważnie i dążyć do realizacji swoich celów. Przekonasz się, że każda dziewczynka ma w sobie niezwykłą moc do czynienia wielkich rzeczy.\"\"\"\n",
    "SYNTH_DESC9 = r\"\"\"Dieses Buch erzählt die bekannte und beliebte Geschichte der zwei königlichen Schwestern Elsa und Anna. Sie leben glücklich als Prinzessinnen im wunderschönen Königreich Arendelle. Die ältere Schwester Elsa besitzt eine geheime und mächtige Zauberkraft: Sie kann Eis und Schnee erschaffen. Als ihre Kräfte bei ihrer Krönungsfeier versehentlich enthüllt werden, flieht Elsa aus Angst in die einsamen Berge. Dabei stürzt sie Arendelle ungewollt in einen ewig dauernden, eisigen Winter. Ihre mutige und optimistische Schwester Anna macht sich auf eine gefährliche Reise, um Elsa zu finden und den Winterzauber zu brechen. Unterwegs trifft Anna neue, lustige Freunde wie den liebenswerten Schneemann Olaf und den hilfsbereiten Eislieferanten Kristoff mit seinem Rentier Sven. Gemeinsam erleben sie spannende und magische Abenteuer im frostigen Land. Es ist eine herzerwärmende Geschichte über die unzertrennliche Verbindung zwischen Schwestern und die wahre Kraft der Liebe.\"\"\"\n",
    "SYNTH_DESC10 = r\"\"\"Dieses Buch erzählt die sehr lustige Geschichte eines kleinen, aber ganz besonderen Einhorns. Es wurde im bunten Herzwald geboren, doch es ist überhaupt nicht süss und lieb, wie man es von Einhörnern erwartet. Dieses störrische Einhorn sagt zu allem und jedem einfach immer nur \"Nein!\". Wegen seiner ständigen Ablehnung wird es von allen bald nur noch das \"Neinhorn\" genannt. Eines Tages hat das Neinhorn genug von der übertrieben zuckersüssen Einhornwelt und beschliesst, wegzulaufen. Auf seinem Weg trifft es andere Tiere, die auch ein bisschen anders und speziell sind. Da ist zum Beispiel ein Waschbär, der nie richtig zuhört, und ein Hund, dem alles völlig egal ist, sowie eine Prinzessin, die ständig widerspricht. Zusammen bilden sie ein urkomisches Team von Querköpfen, Grummlern und Trotzern. Es ist eine äusserst witzige Geschichte über schlechte Laune, das Anderssein und das Finden von Freunden, die einen so akzeptieren, wie man ist.\"\"\"\n",
    "SYNTH_DESC11 = r\"\"\"Ta książka opowiada o niezwykłej grupie gołębi, które potajemnie pracują jako tajni agenci. To nie są zwyczajne ptaki, które spotykasz na ulicy – one walczą z przestępczością i łapią groźnych bandytów. Zespół tych odlotowych gołębi rozwiązuje skomplikowane zagadki kryminalne i tropi złoczyńców w całym mieście. Każdy gołąb w drużynie posiada inne, wyjątkowe umiejętności i gadżety, które pomagają im w trudnych misjach. Razem muszą powstrzymać przebiegłych przestępców i udaremnić ich nikczemne plany, ratując miasto przed kłopotami. Podczas swoich tajnych operacji przeżywają mnóstwo zabawnych i pełnych napięcia przygód. Książka jest pełna zaskakującego humoru, dynamicznej akcji i nieoczekiwanych zwrotów wydarzeń, które trzymają w napięciu. Dowiesz się, jak sprytne, odważne i niezwykle pomysłowe potrafią być te niezwykłe gołębie-detektywi. To wciągająca historia o sile przyjaźni, niezawodnej współpracy w zespole i odwiecznej walce dobra ze złem. Dołącz do ekipy odlotowych gołębi i przeżyj razem z nimi niesamowite śledztwo pełne śmiechu i emocji!\"\"\"\n",
    "synthetic_descriptions = [SYNTH_DESC1, SYNTH_DESC2, SYNTH_DESC3, SYNTH_DESC4, SYNTH_DESC5, SYNTH_DESC6, SYNTH_DESC7, SYNTH_DESC8, SYNTH_DESC9, SYNTH_DESC10, SYNTH_DESC11]"
   ]
  },
  {
   "cell_type": "markdown",
   "id": "2252b721",
   "metadata": {},
   "source": [
    "## Initialize Gemini API Client\n",
    "This is used in function, that creates embeddings and later to initialize chat. "
   ]
  },
  {
   "cell_type": "code",
   "execution_count": null,
   "id": "bcac2642",
   "metadata": {},
   "outputs": [],
   "source": [
    "client = genai.Client(api_key=GOOGLE_API_KEY)"
   ]
  },
  {
   "cell_type": "markdown",
   "id": "05720f88",
   "metadata": {},
   "source": [
    "## Creating the embedding database with ChromaDB\n",
    "\n",
    "Create a [custom function](https://docs.trychroma.com/guides/embeddings#custom-embedding-functions) to generate embeddings with the Gemini API. In this task, you are implementing a retrieval system, so the `task_type` for generating the *document* embeddings is `retrieval_document`. Later, you will use `retrieval_query` for the *query* embeddings. Check out the [API reference](https://ai.google.dev/api/embeddings#v1beta.TaskType) for the full list of supported tasks.\n",
    "\n",
    "Key words: Documents are the items that are in the database. They are inserted first, and later retrieved. Queries are the textual search terms and can be simple keywords or textual descriptions of the desired documents."
   ]
  },
  {
   "cell_type": "code",
   "execution_count": null,
   "id": "d855aff2",
   "metadata": {},
   "outputs": [],
   "source": [
    "from chromadb import Documents, EmbeddingFunction, Embeddings\n",
    "from google.api_core import retry\n",
    "\n",
    "from google.genai import types\n",
    "\n",
    "\n",
    "# Define a helper to retry when per-minute quota is reached.\n",
    "is_retriable = lambda e: (isinstance(e, genai.errors.APIError) and e.code in {429, 503})\n",
    "\n",
    "\n",
    "class GeminiEmbeddingFunction(EmbeddingFunction):\n",
    "    # Specify whether to generate embeddings for documents, or queries\n",
    "    document_mode = True\n",
    "\n",
    "    @retry.Retry(predicate=is_retriable)\n",
    "    def __call__(self, input: Documents) -> Embeddings:\n",
    "        if self.document_mode:\n",
    "            embedding_task = \"retrieval_document\"\n",
    "        else:\n",
    "            embedding_task = \"retrieval_query\"\n",
    "\n",
    "        response = client.models.embed_content(\n",
    "            model=\"models/text-embedding-004\",\n",
    "            contents=input,\n",
    "            config=types.EmbedContentConfig(\n",
    "                task_type=embedding_task,\n",
    "            ),\n",
    "        )\n",
    "        return [e.values for e in response.embeddings]"
   ]
  },
  {
   "cell_type": "markdown",
   "id": "2d8b4c2f",
   "metadata": {},
   "source": [
    "Now create a [Chroma database client](https://docs.trychroma.com/getting-started) that uses the `GeminiEmbeddingFunction` and populate the database with the documents you defined above."
   ]
  },
  {
   "cell_type": "code",
   "execution_count": null,
   "id": "04948692",
   "metadata": {},
   "outputs": [],
   "source": [
    "import chromadb\n",
    "\n",
    "DB_NAME = \"books_descriptions\"\n",
    "\n",
    "embed_fn = GeminiEmbeddingFunction()\n",
    "embed_fn.document_mode = True\n",
    "\n",
    "chroma_client = chromadb.Client()\n",
    "vector_store = chroma_client.get_or_create_collection(name=DB_NAME, embedding_function=embed_fn)\n",
    "\n",
    "isbns = [isbn[0] for isbn in execute_query(\"SELECT isbn FROM bookcase ORDER BY book_id\")]\n",
    "vector_store.add(documents=synthetic_descriptions, ids=isbns)"
   ]
  },
  {
   "cell_type": "markdown",
   "id": "0e6c43ae",
   "metadata": {},
   "source": [
    "Confirm that the data was inserted by looking at the database."
   ]
  },
  {
   "cell_type": "code",
   "execution_count": 174,
   "id": "ac226f6a",
   "metadata": {},
   "outputs": [
    {
     "data": {
      "text/plain": [
       "768"
      ]
     },
     "execution_count": 174,
     "metadata": {},
     "output_type": "execute_result"
    }
   ],
   "source": [
    "len(vector_store.peek(1)[\"embeddings\"][0])"
   ]
  },
  {
   "cell_type": "markdown",
   "id": "7098ce14",
   "metadata": {
    "id": "ac464dfb35a0",
    "papermill": {
     "duration": 0.007868,
     "end_time": "2025-04-04T21:44:34.587937",
     "exception": false,
     "start_time": "2025-04-04T21:44:34.580069",
     "status": "completed"
    },
    "tags": []
   },
   "source": [
    "## Function calling\n",
    "Passing created Python functions as tools, while creating Gemini session using Gemini API."
   ]
  },
  {
   "cell_type": "code",
   "execution_count": null,
   "id": "8c7e0301",
   "metadata": {},
   "outputs": [],
   "source": [
    "db_tools = [list_tables, describe_table, execute_query]\n",
    "\n",
    "instruction = \"\"\"You are a helpful chatbot as Minecraft female Librarian, that help manage girl's bookcase.\n",
    "You answers questions using book descriptions from the reference passages included below. In passages are only book's descriptions. In database is more info about a book.\n",
    "If the passage is irrelevant to the answer, you may ignore it.\n",
    "You can interact with an SQL database. Please before each execute_query understand schema, so you know how to build SQL.\n",
    "You will take the users questions and turn them into SQL queries using the tools available in order to provide additional information about the book.\n",
    "You can join passage to data in SQL database, based on this rule: PASSAGE_ID = bookcase.isbn.\n",
    "Once you have the information you need, you will answer the user's question in english language, using the data returned.\n",
    "You will talk to a 8 year old girl, so you use apropriate language form with kindeness and sympathy.\n",
    "\n",
    "Use tools provided\n",
    "- list_tables to see what tables are present, \n",
    "- describe_table to understand the schema, \n",
    "- execute_query to issue an SQL SELECT query. \n",
    "\"\"\"\n",
    "\n",
    "client = genai.Client(api_key=GOOGLE_API_KEY)\n",
    "# Start a chat with automatic function calling enabled.\n",
    "chat = client.chats.create(\n",
    "    model=\"gemini-2.0-flash\",\n",
    "    config=types.GenerateContentConfig(\n",
    "        system_instruction=instruction,\n",
    "        tools=db_tools,\n",
    "    ),\n",
    ")"
   ]
  },
  {
   "cell_type": "markdown",
   "id": "d4479808",
   "metadata": {},
   "source": [
    "## Retrieval: Find relevant documents"
   ]
  },
  {
   "cell_type": "code",
   "execution_count": null,
   "id": "395730f6",
   "metadata": {},
   "outputs": [
    {
     "data": {
      "text/markdown": [
       "Dieses Buch ist ein lustiger Comic-Ratgeber über die Schweiz und ihre besonderen Eigenschaften. Es zeigt mit vielen witzigen Bildern, was typisch für die Schweizer Kultur und das Leben hier ist. Du lernst auf humorvolle Weise die Gewohnheiten der Menschen in der Schweiz kennen. Das Buch erklärt zum Beispiel mit Cartoons, warum Pünktlichkeit hier so wichtig ist. Es zeigt auch, wie man sich in den Bergen richtig verhält oder was der \"Röstigraben\" bedeutet. Viele bunte Zeichnungen machen das Entdecken der Schweizer Besonderheiten zu einem grossen Spass. Kleine Alltagssituationen werden dargestellt, die manchmal etwas seltsam oder lustig wirken können. Du erfährst auf leichte und unterhaltsame Art mehr über das Land und seine Traditionen. Die Cartoons helfen dir, die Schweiz und ihre Leute mit einem Augenzwinkern besser zu verstehen. Entdecke die Schweiz auf eine ganz neue, witzige Art mit diesem Cartoon-Führer!"
      ],
      "text/plain": [
       "<IPython.core.display.Markdown object>"
      ]
     },
     "execution_count": 164,
     "metadata": {},
     "output_type": "execute_result"
    }
   ],
   "source": [
    "# Switch to query mode when generating embeddings.\n",
    "embed_fn.document_mode = False\n",
    "query = \"Where is the book about Switzerland in my library?\"\n",
    "\n",
    "result = vector_store.query(query_texts=[query], n_results=2)\n",
    "[all_passages] = result[\"documents\"]\n",
    "[all_passage_ids] = result[\"ids\"]\n",
    "Markdown(all_passages[0])"
   ]
  },
  {
   "cell_type": "markdown",
   "id": "1e9061c5",
   "metadata": {},
   "source": [
    "Create user message by filling prompt template with parameters and send it to Gemini"
   ]
  },
  {
   "cell_type": "code",
   "execution_count": 166,
   "id": "0a7707e7",
   "metadata": {},
   "outputs": [
    {
     "name": "stdout",
     "output_type": "stream",
     "text": [
      "QUESTION: Where in my library is the book about Switzerland?\n",
      "\n",
      "PASSAGE_ID: 978-3-03869-022-1\n",
      "PASSAGE: Dieses Buch ist ein lustiger Comic-Ratgeber über die Schweiz und ihre besonderen Eigenschaften. Es zeigt mit vielen witzigen Bildern, was typisch für die Schweizer Kultur und das Leben hier ist. Du lernst auf humorvolle Weise die Gewohnheiten der Menschen in der Schweiz kennen. Das Buch erklärt zum Beispiel mit Cartoons, warum Pünktlichkeit hier so wichtig ist. Es zeigt auch, wie man sich in den Bergen richtig verhält oder was der \"Röstigraben\" bedeutet. Viele bunte Zeichnungen machen das Entdecken der Schweizer Besonderheiten zu einem grossen Spass. Kleine Alltagssituationen werden dargestellt, die manchmal etwas seltsam oder lustig wirken können. Du erfährst auf leichte und unterhaltsame Art mehr über das Land und seine Traditionen. Die Cartoons helfen dir, die Schweiz und ihre Leute mit einem Augenzwinkern besser zu verstehen. Entdecke die Schweiz auf eine ganz neue, witzige Art mit diesem Cartoon-Führer!\n",
      "PASSAGE_ID: 978-3-551-28005-3\n",
      "PASSAGE: Dieses Buch erzählt die bekannte und beliebte Geschichte der zwei königlichen Schwestern Elsa und Anna. Sie leben glücklich als Prinzessinnen im wunderschönen Königreich Arendelle. Die ältere Schwester Elsa besitzt eine geheime und mächtige Zauberkraft: Sie kann Eis und Schnee erschaffen. Als ihre Kräfte bei ihrer Krönungsfeier versehentlich enthüllt werden, flieht Elsa aus Angst in die einsamen Berge. Dabei stürzt sie Arendelle ungewollt in einen ewig dauernden, eisigen Winter. Ihre mutige und optimistische Schwester Anna macht sich auf eine gefährliche Reise, um Elsa zu finden und den Winterzauber zu brechen. Unterwegs trifft Anna neue, lustige Freunde wie den liebenswerten Schneemann Olaf und den hilfsbereiten Eislieferanten Kristoff mit seinem Rentier Sven. Gemeinsam erleben sie spannende und magische Abenteuer im frostigen Land. Es ist eine herzerwärmende Geschichte über die unzertrennliche Verbindung zwischen Schwestern und die wahre Kraft der Liebe.\n",
      "\n",
      " - DB CALL: list_tables()\n",
      " - DB CALL: describe_table(bookcase)\n",
      " - DB CALL: execute_query(SELECT shelf_x, shelf_y FROM bookcase WHERE isbn = '978-3-03869-022-1')\n",
      "\n",
      "Hej, kicia! Książka o Szwajcarii znajduje się na półce drugiej, na poziomie drugim. Mam nadzieję, że szybko ją znajdziesz i miłego czytania!\n",
      "\n"
     ]
    }
   ],
   "source": [
    "query_oneline = query.replace(\"\\n\", \" \")\n",
    "\n",
    "# This prompt is where you can specify any guidance on tone, or what topics the model should stick to, or avoid.\n",
    "prompt = f\"\"\"QUESTION: {query_oneline}\\n\\n\"\"\"\n",
    "\n",
    "# Add the retrieved documents to the prompt.\n",
    "# for passage in all_passages:\n",
    "for idx, passage in enumerate(all_passages):\n",
    "    passage_oneline = passage.replace(\"\\n\", \" \")\n",
    "    prompt += f\"PASSAGE_ID: {all_passage_ids[idx]}\\nPASSAGE: {passage_oneline}\\n\"\n",
    "\n",
    "print(prompt)\n",
    "resp = chat.send_message(prompt)\n",
    "print(f\"\\n{resp.text}\")"
   ]
  }
 ],
 "metadata": {
  "colab": {
   "name": "day-3-function-calling-with-the-gemini-api.ipynb",
   "toc_visible": true
  },
  "kaggle": {
   "accelerator": "none",
   "dataSources": [],
   "dockerImageVersionId": 30786,
   "isGpuEnabled": false,
   "isInternetEnabled": true,
   "language": "python",
   "sourceType": "notebook"
  },
  "kernelspec": {
   "display_name": "af-dihei",
   "language": "python",
   "name": "python3"
  },
  "language_info": {
   "codemirror_mode": {
    "name": "ipython",
    "version": 3
   },
   "file_extension": ".py",
   "mimetype": "text/x-python",
   "name": "python",
   "nbconvert_exporter": "python",
   "pygments_lexer": "ipython3",
   "version": "3.10.16"
  },
  "papermill": {
   "default_parameters": {},
   "duration": 50.639272,
   "end_time": "2025-04-04T21:44:55.469954",
   "environment_variables": {},
   "exception": null,
   "input_path": "__notebook__.ipynb",
   "output_path": "__notebook__.ipynb",
   "parameters": {},
   "start_time": "2025-04-04T21:44:04.830682",
   "version": "2.6.0"
  }
 },
 "nbformat": 4,
 "nbformat_minor": 5
}
